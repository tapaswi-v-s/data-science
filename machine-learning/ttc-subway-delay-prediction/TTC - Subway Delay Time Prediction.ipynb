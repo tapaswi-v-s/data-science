{
 "cells": [
  {
   "cell_type": "markdown",
   "id": "a3d2d3b1",
   "metadata": {},
   "source": [
    "# TTC Subway Delay Time Prediction\n",
    "\n",
    "* In this notebook we are going to use ttc subway data for the year 2023 to predict the delay time of the subway.\n",
    "* For the prediction purpose we are using the Linear Regression to build the ML model.\n",
    "* The data set that is used in this notebook is provided by Toronto Transit Commission(TTC) available on the [Toronto Open Data Portal](\"https://open.toronto.ca/dataset/ttc-subway-delay-data/\")\n",
    "\n",
    "Data Set Columns Description: <br>\n",
    "1. __Date__: The Date(YYYY/MM/DD) date on which the delay occurred\n",
    "2. __Time__: The Hour : Minute of the day\n",
    "3. __Day__: The Day of the week\n",
    "4. __Station__: The Subway Station Name\n",
    "5. __Code__: The TTC Delay Code\n",
    "6. __Min Delay__: The delay time in minutes\n",
    "7. __Min Gap__: The time length(in minutes) between trains\n",
    "8. __Bound__: The direction of train dependant on the line\n",
    "9. __Line__: TTC subway line i.e. YU, BD, SHP, and SRT\n",
    "10. __Vehicle__: TTC Train Number\n",
    "\n",
    "*<b>note:</b> We will be only using Line 1 i.e YU and Line 2 i.e BD lines as SHP & SRT lines are closed."
   ]
  },
  {
   "cell_type": "markdown",
   "id": "d76a48a0",
   "metadata": {},
   "source": [
    "## Importing necessary libraries"
   ]
  },
  {
   "cell_type": "code",
   "execution_count": 1,
   "id": "38288cad",
   "metadata": {},
   "outputs": [],
   "source": [
    "import pandas as pd\n",
    "import numpy as np\n",
    "\n",
    "import seaborn as sns\n",
    "from matplotlib import pyplot as plt\n",
    "\n",
    "import requests\n",
    "from bs4 import BeautifulSoup\n",
    "\n",
    "from category_encoders import TargetEncoder\n",
    "from sklearn.preprocessing import OrdinalEncoder\n",
    "from sklearn.preprocessing import OneHotEncoder\n",
    "from sklearn.model_selection import train_test_split\n",
    "from sklearn.linear_model import SGDRegressor\n",
    "from sklearn.linear_model import LinearRegression\n",
    "from sklearn.metrics import mean_squared_error\n",
    "\n",
    "import joblib"
   ]
  },
  {
   "cell_type": "markdown",
   "id": "04548e05",
   "metadata": {},
   "source": [
    "## Reading the excel file of the data set"
   ]
  },
  {
   "cell_type": "code",
   "execution_count": 2,
   "id": "9fe9140e",
   "metadata": {},
   "outputs": [
    {
     "data": {
      "text/html": [
       "<div>\n",
       "<style scoped>\n",
       "    .dataframe tbody tr th:only-of-type {\n",
       "        vertical-align: middle;\n",
       "    }\n",
       "\n",
       "    .dataframe tbody tr th {\n",
       "        vertical-align: top;\n",
       "    }\n",
       "\n",
       "    .dataframe thead th {\n",
       "        text-align: right;\n",
       "    }\n",
       "</style>\n",
       "<table border=\"1\" class=\"dataframe\">\n",
       "  <thead>\n",
       "    <tr style=\"text-align: right;\">\n",
       "      <th></th>\n",
       "      <th>Date</th>\n",
       "      <th>Time</th>\n",
       "      <th>Day</th>\n",
       "      <th>Station</th>\n",
       "      <th>Code</th>\n",
       "      <th>Min Delay</th>\n",
       "      <th>Min Gap</th>\n",
       "      <th>Bound</th>\n",
       "      <th>Line</th>\n",
       "      <th>Vehicle</th>\n",
       "    </tr>\n",
       "  </thead>\n",
       "  <tbody>\n",
       "    <tr>\n",
       "      <th>0</th>\n",
       "      <td>2023-01-01</td>\n",
       "      <td>02:22</td>\n",
       "      <td>Sunday</td>\n",
       "      <td>MUSEUM STATION</td>\n",
       "      <td>MUPAA</td>\n",
       "      <td>3</td>\n",
       "      <td>9</td>\n",
       "      <td>S</td>\n",
       "      <td>YU</td>\n",
       "      <td>5931</td>\n",
       "    </tr>\n",
       "    <tr>\n",
       "      <th>1</th>\n",
       "      <td>2023-01-01</td>\n",
       "      <td>02:30</td>\n",
       "      <td>Sunday</td>\n",
       "      <td>KIPLING STATION</td>\n",
       "      <td>MUIS</td>\n",
       "      <td>0</td>\n",
       "      <td>0</td>\n",
       "      <td>E</td>\n",
       "      <td>BD</td>\n",
       "      <td>5341</td>\n",
       "    </tr>\n",
       "    <tr>\n",
       "      <th>2</th>\n",
       "      <td>2023-01-01</td>\n",
       "      <td>02:33</td>\n",
       "      <td>Sunday</td>\n",
       "      <td>WARDEN STATION</td>\n",
       "      <td>SUO</td>\n",
       "      <td>0</td>\n",
       "      <td>0</td>\n",
       "      <td>W</td>\n",
       "      <td>BD</td>\n",
       "      <td>0</td>\n",
       "    </tr>\n",
       "    <tr>\n",
       "      <th>3</th>\n",
       "      <td>2023-01-01</td>\n",
       "      <td>03:17</td>\n",
       "      <td>Sunday</td>\n",
       "      <td>KEELE STATION</td>\n",
       "      <td>MUIS</td>\n",
       "      <td>0</td>\n",
       "      <td>0</td>\n",
       "      <td>NaN</td>\n",
       "      <td>BD</td>\n",
       "      <td>0</td>\n",
       "    </tr>\n",
       "    <tr>\n",
       "      <th>4</th>\n",
       "      <td>2023-01-01</td>\n",
       "      <td>07:16</td>\n",
       "      <td>Sunday</td>\n",
       "      <td>BATHURST STATION</td>\n",
       "      <td>MUIS</td>\n",
       "      <td>0</td>\n",
       "      <td>0</td>\n",
       "      <td>NaN</td>\n",
       "      <td>BD</td>\n",
       "      <td>0</td>\n",
       "    </tr>\n",
       "  </tbody>\n",
       "</table>\n",
       "</div>"
      ],
      "text/plain": [
       "        Date   Time     Day           Station   Code  Min Delay  Min Gap  \\\n",
       "0 2023-01-01  02:22  Sunday    MUSEUM STATION  MUPAA          3        9   \n",
       "1 2023-01-01  02:30  Sunday   KIPLING STATION   MUIS          0        0   \n",
       "2 2023-01-01  02:33  Sunday    WARDEN STATION    SUO          0        0   \n",
       "3 2023-01-01  03:17  Sunday     KEELE STATION   MUIS          0        0   \n",
       "4 2023-01-01  07:16  Sunday  BATHURST STATION   MUIS          0        0   \n",
       "\n",
       "  Bound Line  Vehicle  \n",
       "0     S   YU     5931  \n",
       "1     E   BD     5341  \n",
       "2     W   BD        0  \n",
       "3   NaN   BD        0  \n",
       "4   NaN   BD        0  "
      ]
     },
     "execution_count": 2,
     "metadata": {},
     "output_type": "execute_result"
    }
   ],
   "source": [
    "df = pd.read_excel('data/ttc-subway-delay-data-2023.xlsx')\n",
    "df.head()"
   ]
  },
  {
   "cell_type": "code",
   "execution_count": 3,
   "id": "c115aca1",
   "metadata": {},
   "outputs": [],
   "source": [
    "df_temp = df.copy()"
   ]
  },
  {
   "cell_type": "code",
   "execution_count": 4,
   "id": "7a9bdacb",
   "metadata": {},
   "outputs": [
    {
     "name": "stdout",
     "output_type": "stream",
     "text": [
      "No. of rows: 22949\n",
      "No. of cols: 10\n"
     ]
    }
   ],
   "source": [
    "print(f\"No. of rows: {df.shape[0]}\")\n",
    "print(f\"No. of cols: {df.shape[1]}\")"
   ]
  },
  {
   "cell_type": "code",
   "execution_count": 5,
   "id": "47b384d7",
   "metadata": {},
   "outputs": [
    {
     "data": {
      "text/html": [
       "<div>\n",
       "<style scoped>\n",
       "    .dataframe tbody tr th:only-of-type {\n",
       "        vertical-align: middle;\n",
       "    }\n",
       "\n",
       "    .dataframe tbody tr th {\n",
       "        vertical-align: top;\n",
       "    }\n",
       "\n",
       "    .dataframe thead th {\n",
       "        text-align: right;\n",
       "    }\n",
       "</style>\n",
       "<table border=\"1\" class=\"dataframe\">\n",
       "  <thead>\n",
       "    <tr style=\"text-align: right;\">\n",
       "      <th></th>\n",
       "      <th>Min Delay</th>\n",
       "      <th>Min Gap</th>\n",
       "      <th>Vehicle</th>\n",
       "    </tr>\n",
       "  </thead>\n",
       "  <tbody>\n",
       "    <tr>\n",
       "      <th>count</th>\n",
       "      <td>22949.000000</td>\n",
       "      <td>22949.000000</td>\n",
       "      <td>22949.000000</td>\n",
       "    </tr>\n",
       "    <tr>\n",
       "      <th>mean</th>\n",
       "      <td>2.970892</td>\n",
       "      <td>4.370387</td>\n",
       "      <td>3028.186152</td>\n",
       "    </tr>\n",
       "    <tr>\n",
       "      <th>std</th>\n",
       "      <td>9.295641</td>\n",
       "      <td>10.353832</td>\n",
       "      <td>2742.364641</td>\n",
       "    </tr>\n",
       "    <tr>\n",
       "      <th>min</th>\n",
       "      <td>0.000000</td>\n",
       "      <td>0.000000</td>\n",
       "      <td>0.000000</td>\n",
       "    </tr>\n",
       "    <tr>\n",
       "      <th>25%</th>\n",
       "      <td>0.000000</td>\n",
       "      <td>0.000000</td>\n",
       "      <td>0.000000</td>\n",
       "    </tr>\n",
       "    <tr>\n",
       "      <th>50%</th>\n",
       "      <td>0.000000</td>\n",
       "      <td>0.000000</td>\n",
       "      <td>5055.000000</td>\n",
       "    </tr>\n",
       "    <tr>\n",
       "      <th>75%</th>\n",
       "      <td>4.000000</td>\n",
       "      <td>8.000000</td>\n",
       "      <td>5526.000000</td>\n",
       "    </tr>\n",
       "    <tr>\n",
       "      <th>max</th>\n",
       "      <td>423.000000</td>\n",
       "      <td>428.000000</td>\n",
       "      <td>9541.000000</td>\n",
       "    </tr>\n",
       "  </tbody>\n",
       "</table>\n",
       "</div>"
      ],
      "text/plain": [
       "          Min Delay       Min Gap       Vehicle\n",
       "count  22949.000000  22949.000000  22949.000000\n",
       "mean       2.970892      4.370387   3028.186152\n",
       "std        9.295641     10.353832   2742.364641\n",
       "min        0.000000      0.000000      0.000000\n",
       "25%        0.000000      0.000000      0.000000\n",
       "50%        0.000000      0.000000   5055.000000\n",
       "75%        4.000000      8.000000   5526.000000\n",
       "max      423.000000    428.000000   9541.000000"
      ]
     },
     "execution_count": 5,
     "metadata": {},
     "output_type": "execute_result"
    }
   ],
   "source": [
    "df.describe()"
   ]
  },
  {
   "cell_type": "code",
   "execution_count": 6,
   "id": "621c7f08",
   "metadata": {},
   "outputs": [
    {
     "name": "stdout",
     "output_type": "stream",
     "text": [
      "<class 'pandas.core.frame.DataFrame'>\n",
      "RangeIndex: 22949 entries, 0 to 22948\n",
      "Data columns (total 10 columns):\n",
      " #   Column     Non-Null Count  Dtype         \n",
      "---  ------     --------------  -----         \n",
      " 0   Date       22949 non-null  datetime64[ns]\n",
      " 1   Time       22949 non-null  object        \n",
      " 2   Day        22949 non-null  object        \n",
      " 3   Station    22949 non-null  object        \n",
      " 4   Code       22949 non-null  object        \n",
      " 5   Min Delay  22949 non-null  int64         \n",
      " 6   Min Gap    22949 non-null  int64         \n",
      " 7   Bound      14423 non-null  object        \n",
      " 8   Line       22901 non-null  object        \n",
      " 9   Vehicle    22949 non-null  int64         \n",
      "dtypes: datetime64[ns](1), int64(3), object(6)\n",
      "memory usage: 1.8+ MB\n"
     ]
    }
   ],
   "source": [
    "df.info()"
   ]
  },
  {
   "cell_type": "markdown",
   "id": "7738f8dc",
   "metadata": {},
   "source": [
    "<p style=\"font-size: 17px; letter-spacing:1px; font-family: Times, serif;\">As you can see there are <b>22949</b> records and <b>10</b> columns in our dataset. Out of these 10 columns <code>\"Min Delay\"</code><br> is our Dependent Variabe(Y) which we are going to predict.</p>\n",
    "<p style=\"font-size: 17px; letter-spacing:1px; font-family: Times, serif;\">Now let us look at all the Independent Variables(X) and try to understand the data.</p>"
   ]
  },
  {
   "cell_type": "markdown",
   "id": "b6175ecd",
   "metadata": {},
   "source": [
    "## Independent Feature: _Date_"
   ]
  },
  {
   "cell_type": "code",
   "execution_count": 7,
   "id": "fa3c9a26",
   "metadata": {},
   "outputs": [
    {
     "data": {
      "text/plain": [
       "0   2023-01-01\n",
       "1   2023-01-01\n",
       "2   2023-01-01\n",
       "3   2023-01-01\n",
       "4   2023-01-01\n",
       "Name: Date, dtype: datetime64[ns]"
      ]
     },
     "execution_count": 7,
     "metadata": {},
     "output_type": "execute_result"
    }
   ],
   "source": [
    "df['Date'].head()"
   ]
  },
  {
   "cell_type": "markdown",
   "id": "3514b450",
   "metadata": {},
   "source": [
    "<p style=\"font-size: 17px; letter-spacing:1px; font-family: Times, serif;\">\n",
    "If we look at the date, it is not much helpful for the prediction but if we extract the <code>month</code> from the date and make it as a feature, then it might be helpful for the prediction.\n",
    "</p>\n",
    "<p style=\"font-size: 17px; letter-spacing:1px; font-family: Times, serif;\">So, let's extract month feature from the date.</p>"
   ]
  },
  {
   "cell_type": "code",
   "execution_count": 8,
   "id": "30f0493d",
   "metadata": {},
   "outputs": [],
   "source": [
    "# Extracting Month from the date\n",
    "df['Month'] = df['Date'].dt.month\n",
    "\n",
    "# Dropping the date column as it is no longer needed\n",
    "df.drop(columns=['Date'], inplace=True)"
   ]
  },
  {
   "cell_type": "markdown",
   "id": "4c28b5f5",
   "metadata": {},
   "source": [
    "## Independent Feature: _Time_"
   ]
  },
  {
   "cell_type": "code",
   "execution_count": 9,
   "id": "9246248c",
   "metadata": {},
   "outputs": [
    {
     "data": {
      "text/plain": [
       "0    02:22\n",
       "1    02:30\n",
       "2    02:33\n",
       "3    03:17\n",
       "4    07:16\n",
       "Name: Time, dtype: object"
      ]
     },
     "execution_count": 9,
     "metadata": {},
     "output_type": "execute_result"
    }
   ],
   "source": [
    "df['Time'].head()"
   ]
  },
  {
   "cell_type": "markdown",
   "id": "a003fc0d",
   "metadata": {},
   "source": [
    "<p style=\"font-size: 17px; letter-spacing:1px; font-family: 'Charter', Times, serif;\">\n",
    "If we look at the Time, it is not much helpful for the prediction but if we extract the <code>divisions of the day</code>\n",
    "from the time and make it as a feature, then it might be helpful for the prediction.\n",
    "</p>\n",
    "<p style=\"font-size: 17px; letter-spacing:1px; font-family: 'Charter', Times, serif;\"> Divisions of the Day:</p>\n",
    "<ol style=\"font-size: 17px; letter-spacing:1px; font-family: 'Charter', Times, serif;\">\n",
    "    <li>Morning   - <i>5 A.M to 11:59 AM</i></li>\n",
    "    <li>Afternoon - <i>12:00 P.M to 4:59 PM</i></li>\n",
    "    <li>Evening   - <i>5:00 P.M to 8:59 PM</i></li>\n",
    "    <li>Night     - <i>9:00 P.M to 4:59 AM</i></li>\n",
    "</ol>\n",
    "\n",
    "<p style=\"font-size: 17px; letter-spacing:1px; font-family: 'Charter', Times, serif;\">So, let's extract divisions feature from the time.</p>"
   ]
  },
  {
   "cell_type": "code",
   "execution_count": 10,
   "id": "976b054f",
   "metadata": {},
   "outputs": [],
   "source": [
    "# First We have to convert date column from object to DateTime object\n",
    "def convert_time_to_division(time):\n",
    "    if ((time > 21) & (time <= 24) or (time >= 0) & (time <= 4)):\n",
    "        t = 'night'\n",
    "    elif (time > 4) & (time <= 12):\n",
    "        t = 'morning'\n",
    "    elif (time > 12) & (time <= 17):\n",
    "        t = 'afternoon'\n",
    "    else:\n",
    "        t = 'evening'\n",
    "    \n",
    "    return t"
   ]
  },
  {
   "cell_type": "code",
   "execution_count": 11,
   "id": "2236eac6",
   "metadata": {
    "scrolled": false
   },
   "outputs": [],
   "source": [
    "df['Time'] =  df['Time'].apply(pd.Timestamp)\n",
    "df['Time'] = df['Time'].dt.hour.map(convert_time_to_division)"
   ]
  },
  {
   "cell_type": "code",
   "execution_count": 12,
   "id": "238f58d9",
   "metadata": {},
   "outputs": [
    {
     "data": {
      "text/html": [
       "<div>\n",
       "<style scoped>\n",
       "    .dataframe tbody tr th:only-of-type {\n",
       "        vertical-align: middle;\n",
       "    }\n",
       "\n",
       "    .dataframe tbody tr th {\n",
       "        vertical-align: top;\n",
       "    }\n",
       "\n",
       "    .dataframe thead th {\n",
       "        text-align: right;\n",
       "    }\n",
       "</style>\n",
       "<table border=\"1\" class=\"dataframe\">\n",
       "  <thead>\n",
       "    <tr style=\"text-align: right;\">\n",
       "      <th></th>\n",
       "      <th>Time</th>\n",
       "      <th>Day</th>\n",
       "      <th>Station</th>\n",
       "      <th>Code</th>\n",
       "      <th>Min Delay</th>\n",
       "      <th>Min Gap</th>\n",
       "      <th>Bound</th>\n",
       "      <th>Line</th>\n",
       "      <th>Vehicle</th>\n",
       "      <th>Month</th>\n",
       "    </tr>\n",
       "  </thead>\n",
       "  <tbody>\n",
       "    <tr>\n",
       "      <th>0</th>\n",
       "      <td>night</td>\n",
       "      <td>Sunday</td>\n",
       "      <td>MUSEUM STATION</td>\n",
       "      <td>MUPAA</td>\n",
       "      <td>3</td>\n",
       "      <td>9</td>\n",
       "      <td>S</td>\n",
       "      <td>YU</td>\n",
       "      <td>5931</td>\n",
       "      <td>1</td>\n",
       "    </tr>\n",
       "    <tr>\n",
       "      <th>1</th>\n",
       "      <td>night</td>\n",
       "      <td>Sunday</td>\n",
       "      <td>KIPLING STATION</td>\n",
       "      <td>MUIS</td>\n",
       "      <td>0</td>\n",
       "      <td>0</td>\n",
       "      <td>E</td>\n",
       "      <td>BD</td>\n",
       "      <td>5341</td>\n",
       "      <td>1</td>\n",
       "    </tr>\n",
       "    <tr>\n",
       "      <th>2</th>\n",
       "      <td>night</td>\n",
       "      <td>Sunday</td>\n",
       "      <td>WARDEN STATION</td>\n",
       "      <td>SUO</td>\n",
       "      <td>0</td>\n",
       "      <td>0</td>\n",
       "      <td>W</td>\n",
       "      <td>BD</td>\n",
       "      <td>0</td>\n",
       "      <td>1</td>\n",
       "    </tr>\n",
       "    <tr>\n",
       "      <th>3</th>\n",
       "      <td>night</td>\n",
       "      <td>Sunday</td>\n",
       "      <td>KEELE STATION</td>\n",
       "      <td>MUIS</td>\n",
       "      <td>0</td>\n",
       "      <td>0</td>\n",
       "      <td>NaN</td>\n",
       "      <td>BD</td>\n",
       "      <td>0</td>\n",
       "      <td>1</td>\n",
       "    </tr>\n",
       "    <tr>\n",
       "      <th>4</th>\n",
       "      <td>morning</td>\n",
       "      <td>Sunday</td>\n",
       "      <td>BATHURST STATION</td>\n",
       "      <td>MUIS</td>\n",
       "      <td>0</td>\n",
       "      <td>0</td>\n",
       "      <td>NaN</td>\n",
       "      <td>BD</td>\n",
       "      <td>0</td>\n",
       "      <td>1</td>\n",
       "    </tr>\n",
       "  </tbody>\n",
       "</table>\n",
       "</div>"
      ],
      "text/plain": [
       "      Time     Day           Station   Code  Min Delay  Min Gap Bound Line  \\\n",
       "0    night  Sunday    MUSEUM STATION  MUPAA          3        9     S   YU   \n",
       "1    night  Sunday   KIPLING STATION   MUIS          0        0     E   BD   \n",
       "2    night  Sunday    WARDEN STATION    SUO          0        0     W   BD   \n",
       "3    night  Sunday     KEELE STATION   MUIS          0        0   NaN   BD   \n",
       "4  morning  Sunday  BATHURST STATION   MUIS          0        0   NaN   BD   \n",
       "\n",
       "   Vehicle  Month  \n",
       "0     5931      1  \n",
       "1     5341      1  \n",
       "2        0      1  \n",
       "3        0      1  \n",
       "4        0      1  "
      ]
     },
     "execution_count": 12,
     "metadata": {},
     "output_type": "execute_result"
    }
   ],
   "source": [
    "df.head()"
   ]
  },
  {
   "cell_type": "markdown",
   "id": "1ac58da6",
   "metadata": {},
   "source": [
    "## Independent Feature: _Day_"
   ]
  },
  {
   "cell_type": "code",
   "execution_count": 13,
   "id": "fac5b13a",
   "metadata": {},
   "outputs": [
    {
     "name": "stdout",
     "output_type": "stream",
     "text": [
      "No. of Null Values in Day column: 0\n"
     ]
    }
   ],
   "source": [
    "print(f\"No. of Null Values in Day column: {df['Day'].isnull().sum()}\")"
   ]
  },
  {
   "cell_type": "code",
   "execution_count": 14,
   "id": "6aff18a3",
   "metadata": {},
   "outputs": [
    {
     "data": {
      "text/plain": [
       "array(['Sunday', 'Monday', 'Tuesday', 'Wednesday', 'Thursday', 'Friday',\n",
       "       'Saturday'], dtype=object)"
      ]
     },
     "execution_count": 14,
     "metadata": {},
     "output_type": "execute_result"
    }
   ],
   "source": [
    "df['Day'].unique()"
   ]
  },
  {
   "cell_type": "markdown",
   "id": "748f4c3b",
   "metadata": {},
   "source": [
    "<p style=\"font-size: 17px; letter-spacing:1px; font-family: 'Charter', Times, serif;\">\n",
    "Day has all 7 days of the week and there's no null values.</p>"
   ]
  },
  {
   "cell_type": "markdown",
   "id": "1c20a18a",
   "metadata": {},
   "source": [
    "## Independent Feature: _Station_"
   ]
  },
  {
   "cell_type": "code",
   "execution_count": 15,
   "id": "b6d28c5f",
   "metadata": {},
   "outputs": [
    {
     "name": "stdout",
     "output_type": "stream",
     "text": [
      "No. of Null Values in Station column: 0\n"
     ]
    }
   ],
   "source": [
    "print(f\"No. of Null Values in Station column: {df.Station.isnull().sum()}\")"
   ]
  },
  {
   "cell_type": "code",
   "execution_count": 16,
   "id": "f7af2f1d",
   "metadata": {},
   "outputs": [
    {
     "data": {
      "text/plain": [
       "array(['MUSEUM STATION', 'KIPLING STATION', 'WARDEN STATION',\n",
       "       'KEELE STATION', 'BATHURST STATION', 'JANE STATION',\n",
       "       'WOODBINE STATION', 'VAUGHAN MC STATION', 'GREENWOOD STATION',\n",
       "       'ROYAL YORK STATION', 'DONLANDS STATION', 'EGLINTON STATION',\n",
       "       'SHEPPARD WEST STATION', 'ISLINGTON STATION', 'FINCH STATION',\n",
       "       'DUNDAS WEST STATION', 'DAVISVILLE STATION',\n",
       "       'PIONEER VILLAGE STATIO', 'SHERBOURNE STATION', 'KING STATION',\n",
       "       'ST GEORGE YUS STATION', 'BAY STATION', 'YONGE BD STATION',\n",
       "       'KENNEDY BD STATION', 'YONGE-UNIVERSITY AND B',\n",
       "       'KENNEDY SRT STATION TO', 'UNION STATION', 'ST CLAIR STATION',\n",
       "       'LAWRENCE STATION', 'DON MILLS STATION', 'MCCOWAN STATION',\n",
       "       'HIGHWAY 407 STATION', 'LANSDOWNE STATION', 'WILSON STATION',\n",
       "       'COLLEGE STATION', 'EGLINTON WEST STATION', 'ST GEORGE BD STATION',\n",
       "       'BLOOR STATION', 'COXWELL STATION', 'CHRISTIE STATION',\n",
       "       'DUNDAS STATION', 'SPADINA BD STATION', 'QUEEN STATION',\n",
       "       'SUMMERHILL STATION', 'OLD MILL STATION', 'DUFFERIN STATION',\n",
       "       'WELLESLEY STATION', 'BROADVIEW STATION', 'SHEPPARD-YONGE STATION',\n",
       "       'LAWRENCE EAST STATION', 'CASTLE FRANK STATION',\n",
       "       'DOWNSVIEW PARK STATION', 'NORTH YORK CTR STATION',\n",
       "       'SHEPPARD STATION', 'RUNNYMEDE STATION', 'VICTORIA PARK STATION',\n",
       "       'FINCH WEST STATION', 'UNION STATION TO ST AN',\n",
       "       \"QUEEN'S PARK STATION\", 'OSGOODE STATION', 'KENNEDY SRT STATION',\n",
       "       'SCARBOROUGH CTR STATIO', 'CHESTER STATION', 'PAPE STATION',\n",
       "       'YORK MILLS STATION', 'LAWRENCE WEST STATION',\n",
       "       'SPADINA YUS STATION', 'BAYVIEW STATION', 'MIDLAND STATION',\n",
       "       'ST PATRICK STATION', 'DUPONT STATION', 'YORKDALE STATION',\n",
       "       'OSSINGTON STATION', 'MAIN STREET STATION', 'UNION TO KING',\n",
       "       'HIGH PARK STATION', 'ST CLAIR WEST STATION', 'GLENCAIRN STATION',\n",
       "       'HIGH PARK STAITON', 'LESLIE STATION', 'KEELE YARD',\n",
       "       'YORK UNIVERSITY STATIO', 'GREENWOOD YARD', 'ROSEDALE STATION',\n",
       "       'BESSARION STATION', 'SPADINA YUS STATION -', 'GREENWOOD SHOPS.',\n",
       "       'GREENWOOD SHOP', 'ST ANDREW STATION TO O', 'PAPE', 'SRT LINE',\n",
       "       'TORONTO TRANSIT COMMIS', 'MIDLAND APPROACHING',\n",
       "       'ST ANDREW STATION', 'YONGE STATION', 'DOWNSVIEW SUB STATION',\n",
       "       'MCCOWAN STATION TO KEN', 'YONGE/UNIVERSITY SUBWA',\n",
       "       'ELLESMERE STATION', 'GREENWOOD CARHOUSE', 'QUEENS PARK STATION',\n",
       "       'BLOOR DANFORTH LINE', 'NORTH YORK CENTRE STAT',\n",
       "       'LAWRENCE TO YORK MILLS', 'LINE 2 BLOOR-DANFORTH', 'GREENWOOD WYE',\n",
       "       'WILSON CARHOUSE', 'DAVISVILLE BUILD-UP', 'CHRISTIE CENTER',\n",
       "       'QUEEN AND YONGE', 'JANE AND DUFFERIN', 'WILSON YARD',\n",
       "       'FINCH TO VMC', 'YONGE UNIVERSITY SPADI', 'YOUNG UNIVERSITY SPADI',\n",
       "       'DAVISVILLE YARD', 'OSSINGTON STATION(APPR',\n",
       "       'NORTH HOSTLER (LEAVING', 'KENNEDY SRT TO LAWRENC',\n",
       "       'WILSON YARD - WALKWAY', 'KENNEDY TO LAWRENCE EA',\n",
       "       'OSGOODE POCKET', 'GREENWOOD COMPLEX', 'KING STATION TO OSGOOD',\n",
       "       'UNION STATION TOWARDS', 'KENNEDY TO LAWRENCE SR',\n",
       "       'KENNEDY SRT STATION (D', 'LINE 4', 'YONGE UNIVERSITY LINE',\n",
       "       'UNION STATION TO FINCH', 'MCCOWAN YARD', 'KENNEDY SRT STATION (L',\n",
       "       'KENNEDY TO LAWREBCE EA', 'MCBRIEN BUILDING',\n",
       "       'UNIVERSITY AND QUEEN', 'DAVISVILLE BUILD UP',\n",
       "       'BROADVIEW AND DANFORTH', 'LINE 1', 'LINE 2 BD',\n",
       "       'KENNEDY STATION TO MCC', 'YONGE UNIVERSITY LINE/',\n",
       "       'YONGE UNIVERSITY/BLOOR', 'LINE 3', 'UNION - UNIVERSITY',\n",
       "       'KENNEDY SRT STATION (A', 'APPROCHING OLD MILL ST',\n",
       "       'ST. CLAIR WEST', 'YONGE UNIVERISTY SUBWA',\n",
       "       'KENNEDY TO MCCOWAN STA', 'SPADINA AND ADELAIDE',\n",
       "       'ALLEN ROAD AND EGLINTO', '1 TIPPETT ROAD', 'TRACK LEVEL ACTIVITY',\n",
       "       'MC COWAN STATION', 'YU/BD', 'BLOOR TO DAVISVILLE ST',\n",
       "       'GLENCARIN STATION', 'ST. GEORGE STATION', 'SYSTEM WIDE',\n",
       "       'EGLINTON GARAGE', 'MC BRIEN', 'HIGH PARK - KEELE',\n",
       "       'CHESTER CENTRE TRACK', 'LAWRENCE TO ST CLAIR',\n",
       "       'YONGE UNIVERSITY SUBWA', 'KENNEDY STATION TO LAW',\n",
       "       'KING TO UNION', 'YONGE-UNIVERSTY AND BL', 'UNION STATION TO KING',\n",
       "       'SAFE APP', 'UNION TO ST ANDREW', 'SPADINA AND DUNDAS',\n",
       "       'YONGE-BLOOR', 'BROADVIEW TO CHESTER S', 'WOODBINE STATION (LEAV',\n",
       "       'YORK UNIVERISTY STATIO', 'KENNEDY TO KIPLING STA',\n",
       "       'WOODBINE STATION (APPR', 'ST GEORGE STAION - LE',\n",
       "       'OSSINGTON CENTRE TRACK', 'UNION (TO FINCH)',\n",
       "       'BLOOR-DANFORTH LINE', 'HIGH PARK', 'LINE 3 SCARBOROUGH',\n",
       "       'DUNCAN BUILDING', 'UNION STATION - TOWARD',\n",
       "       'UNION STATION FROM KIN', 'LINE 1 YONGE UNIVERSIT',\n",
       "       'YONGE-UNIVERSITY LINE', 'UNION AND HIGHWAY 407', 'LYTTON EE',\n",
       "       'UNION STATION (TO ST A', 'VAUGHAN MC TO FINCH WE',\n",
       "       'MUSEUM STATION ST. GEO', 'YORK MILLS TO ST. CLAI',\n",
       "       'SHEPPARD STATION TO EG', 'WILSON HOSTLER',\n",
       "       'EGLINTON TO SHEPPARD S', 'UNION STATION TO ST. A',\n",
       "       'YONGE UNIVERSITY AND B', 'UNION TO WILSON', 'TRANSIT CONTROL',\n",
       "       'BAY LOWER STATION', 'YONGE UNIVRESITY/BLOOR',\n",
       "       'BLOOR STATION-DUNDAS S', 'KENNEDY TO MC COWAN ST',\n",
       "       'WOODBINE TO KENNEDY', 'ST CLAIR - ROSEDALE', 'WOODBINE - KENNEDY',\n",
       "       'SCARBOROUGH RT', 'ST.GEORGE STATION YU', 'HILLCREST - SUBWAY OPE',\n",
       "       'DAVISVILLE CARHOUSE', 'DAVISVILLE TO ROSEDALE',\n",
       "       'SHEPPARD - YONGE (LINE', 'SCARBOROUGH RAPID TRAN', 'SRT YARD',\n",
       "       'YONGE AND BLOOR', 'WOODBINE STATION LEAVI',\n",
       "       'WOODBINE TO KENNEDY ST', 'SRT LINE 3', 'BLOOR STATION TO YORK',\n",
       "       'UNION TO ST. ANDREW', 'MUSEUM STATION TO FINC',\n",
       "       'ROSEDALE TO BLOOR', 'KENNEDY SRT STATION (E', 'GREENWOOD SHOPS',\n",
       "       'UNION STATION (ST ANDR', 'KIPLING TO KEELE', 'UNION STATION-KING',\n",
       "       'ST GEORGE TO QUEENS PA', 'SPADINA TO ST ANDREW', 'LINE 2',\n",
       "       'UNION STATION - FINCH', 'SCARBOROUGH SRT', 'ST CLAIR STAITON',\n",
       "       'LINE 3 SCARBOROUGH SRT', 'KIPLING TO KEELE STATI',\n",
       "       'CLOSURE- VICTORIA PARK', 'BIRCHMOUNT EE', 'BLOOR HUB',\n",
       "       'DUFFERIN AND DUFFERIN', 'GUNN BUILDING - 2ND FL',\n",
       "       'YONGE/UNIVERSITY/SPADI', 'GREENWOOD T&S BUILDING',\n",
       "       'BROADVIEW STATION TO W', 'CNE EAST LOOP', 'BROADVIEW TO WOODBINE',\n",
       "       'BROADVIEW CENTRE TRACK', 'YONGE AND DUNDAS', 'WILSON PLANT T&S',\n",
       "       'FINCH TO EGLINTON STAT', 'YONGE & BLOOR STATION',\n",
       "       'BRAODVIEW STATION TO W', 'LAWRENCE', 'MCCOWAN TO KENNEDY SRT',\n",
       "       'GREENWOOD AND DANFORTH', 'UNION TO ST. ANDREW ST',\n",
       "       'DAVISVILLE BUILDUP', 'UNION STATION TOWARD K', 'YORK UNIVERSITY',\n",
       "       'GREENWOOD TRACK BUILDI', 'N/O DAVISVILLE STATION',\n",
       "       'YONGE UNIVERSITY BLOOR', 'YONGE AND BLOOR STATIO',\n",
       "       'UNION STATION (TOWARDS', 'SHEPPARD-YONGE TAIL TR',\n",
       "       'YORK MILLS TO ST CLAIR', 'WILSON YARD (TRACK 43)',\n",
       "       'LAWRENCE EAST TO KENNE', 'LINE 1 YUS (YORK MILLS',\n",
       "       'SHEPPARD WEST SATION', 'WILSON GARAGE', 'LATE OPENING - ST. GEO',\n",
       "       'MIDLAND STATION TO ELL', 'SLOW ZONE LAWRENCE EAS',\n",
       "       'KENNEDY STATION', 'UNION HUB', 'LINE 1 YUS',\n",
       "       'SHEPPARD TO ST CLAIR S', 'LINE 3 SRT', 'EGLINTON STATION TO ST',\n",
       "       'KENNEDY TO MCCOWAN', 'QUEENS QUAY STATION', 'DANFORTH DIVSION',\n",
       "       'EGLINTON WEST SATION', 'BATHURST TO CASTLE FRA',\n",
       "       'WILSON NORTH HOSTLER', 'GUNN BUILDING', 'QUEENS QUAY ELEVATOR',\n",
       "       'UNION AND LESLIE', 'ST CLAIR TO YORK MILLS',\n",
       "       'KIPLING TAIL TRACK 2', 'UNION STATION (TO KING',\n",
       "       'BIRCHMOUNT EMERGENCY E', 'DANFORTH DIVISION',\n",
       "       'ST GEORGE TO BROADVIEW', 'SHEPPARD WEST EE (3940',\n",
       "       'WILSON YARD TRACK 3', 'BAY AND BLOOR', 'GREENWOOD PLANT BUILDI',\n",
       "       'VAUGHAN MC STATION (PL', 'GUNN THEATRE', 'BLOOR-DANFORTH SUBWAY',\n",
       "       'JANE TO OSSINGTON STAT', 'LEAVING PAPE', 'SHEPPARD WEST TO ST CL',\n",
       "       'WILSON SOUTH HOSTLER', 'LINE 1 - YONGE-UNIVERS',\n",
       "       'WILSON TO SHEPPARD WES', 'LINE 2 - BLOOR-DANFORT',\n",
       "       'EARLY CLOSURE - YONGE', 'VAUGHAN MC TO MUSEUM S',\n",
       "       'EGLINTON WEST - SHEPPA', 'GREENWOOD CAR HOUSE',\n",
       "       'ST. CLAIR STATION (APP', 'SHEPPARD WEST - ST CLA', 'WELLBECK EE',\n",
       "       'CLANTON PORTAL TO EGLI', 'FINCH TOWER', 'ST. CLAIR WEST TO SHEP',\n",
       "       'ST CLAIR - FINCH STATI', 'DAVISVILLE STATION BUI',\n",
       "       'SPADINA TO ST ANDREW S', 'ST GEORGE AND BLOOR',\n",
       "       'NORTH YORK CTR TO FINC', 'ST ANDREW STATION TO U',\n",
       "       'WILSON CAR HOUSE', 'ST ANDREW STATION TO S',\n",
       "       'KING TO OSGOODE STATIO', 'GREENWOOD TRACK&STRUCT',\n",
       "       'ISLINTON STATION', 'PLATFORM 2 FINCH', 'GREEENWOOD YARD',\n",
       "       'SPADINA STATION', 'KIPLING HUB', 'LAKESHORE AND YORK',\n",
       "       'HWY 407 & DOWNSVIEW PA', 'ST ANDREW TO ST GEORGE',\n",
       "       'ST GEORGE STATION TO S', 'MUSEUM TO ST ANDREW ST',\n",
       "       'YONGE- UNIVERSITY SPAD', 'YONGE SHEPPARD TO EGLI',\n",
       "       'SHEPPARD TO EGLINTON S', 'FINCH STATION TO ST. C',\n",
       "       'ST. CLAIR STATION', 'FINCH STATION TO ST CL',\n",
       "       'SHEPPARD STATION - EGL', 'EGLINTON TO FINCH',\n",
       "       'YONGE SHEPPARD STATION', 'WEEKEND CLOSURE ISLING', 'LINE 1 YU',\n",
       "       'LINE 2 - BD', 'ISLINGTON TO KIPLING-', 'YONGE UNIVERSITY - BLO',\n",
       "       'WEEKEND CLOSURE- ST AN', 'WEEKEND CLOSURE- ST GE',\n",
       "       'YONGE AND EGLINTON (EG', 'YONGE- UNIVERSITY AND',\n",
       "       'KENNEDY TO WARDEN STAT', 'MAC DONALD CARTIER EE',\n",
       "       'MCBRIAN BUILDING', '1900 YONGE STREET', 'BLOOR YU / YONGE BD ST',\n",
       "       'LINE 1 YONGE-UNIVERSIT', 'ROXBOROUGH AND YONGE'], dtype=object)"
      ]
     },
     "execution_count": 16,
     "metadata": {},
     "output_type": "execute_result"
    }
   ],
   "source": [
    "# Printing the names of all the Subway Stations\n",
    "df.Station.unique()"
   ]
  },
  {
   "cell_type": "code",
   "execution_count": 17,
   "id": "7d1580e5",
   "metadata": {},
   "outputs": [
    {
     "name": "stdout",
     "output_type": "stream",
     "text": [
      "Number of subway stations in the dataset: 366\n"
     ]
    }
   ],
   "source": [
    "print(f\"Number of subway stations in the dataset: {len(df.Station.unique())}\")"
   ]
  },
  {
   "cell_type": "markdown",
   "id": "753dc9c1",
   "metadata": {},
   "source": [
    "<p style=\"font-size: 17px; letter-spacing:1px; font-family: 'Charter', Times, serif;\">\n",
    "We can see that there are 366 subway stations int the Station column but if we refer to this <a href=\"https://en.wikipedia.org/wiki/List_of_Toronto_subway_stations\">WikipediA page</a> of TTC, <br>\"The subway system encompasses three lines and 70 stations\" only.\n",
    "So we need to clean the Station column thoroughly.</p>\n",
    "\n",
    "<p style=\"font-size: 17px; letter-spacing:1px; font-family: 'Charter', Times, serif;\">\n",
    "Also, we are using only Line 1 and Line 2 Stations as Line 3 &amp; 4 are no longer in usage as of 10th Feb 2024. So, we need to remove the stations which are of Line 1 and Line 2\n",
    "</p>"
   ]
  },
  {
   "cell_type": "markdown",
   "id": "10d32c23",
   "metadata": {},
   "source": [
    "### Scraping Station Names from the Wikipedia Page"
   ]
  },
  {
   "cell_type": "markdown",
   "id": "8717ac02",
   "metadata": {},
   "source": [
    "<p style=\"font-size: 17px; letter-spacing:1px; font-family: 'Charter', Times, serif;\">\n",
    "To correctly identify the 70 Stations, first we need get all the 70 subway stations from somewhere.\n",
    "</p>\n",
    "<p style=\"font-size: 17px; letter-spacing:1px; font-family: 'Charter', Times, serif;\">\n",
    "    For getting all the 70 stations, we will scrape all the subway station names from this <a href=\"https://en.wikipedia.org/wiki/List_of_Toronto_subway_stations\">WikipediA page</a> of TTC.<br>\n",
    "    For scraping the webpage we will use <code>BeautifulSoup</code> library.\n",
    "</p>"
   ]
  },
  {
   "cell_type": "code",
   "execution_count": 18,
   "id": "2f15abb2",
   "metadata": {},
   "outputs": [],
   "source": [
    "# Getting the response from the WikipediA Page\n",
    "wiki_url = \"https://en.wikipedia.org/wiki/List_of_Toronto_subway_stations\"\n",
    "response = requests.get(wiki_url)"
   ]
  },
  {
   "cell_type": "code",
   "execution_count": 19,
   "id": "217b9361",
   "metadata": {},
   "outputs": [
    {
     "data": {
      "text/plain": [
       "<title>List of Toronto subway stations - Wikipedia</title>"
      ]
     },
     "execution_count": 19,
     "metadata": {},
     "output_type": "execute_result"
    }
   ],
   "source": [
    "# Creating the Soup object with the webpage's response html\n",
    "soup = BeautifulSoup(response.text, 'html.parser')\n",
    "soup.title"
   ]
  },
  {
   "cell_type": "code",
   "execution_count": 20,
   "id": "10fc28cf",
   "metadata": {},
   "outputs": [
    {
     "name": "stdout",
     "output_type": "stream",
     "text": [
      "Stations having YONGE in it: ['SHEPPARD–YONGE', 'BLOOR–YONGE']\n"
     ]
    }
   ],
   "source": [
    "# Finding all the html tables\n",
    "html_tables = soup.find_all('table')\n",
    "\n",
    "# Extracting the 2nd html table which contains stations names\n",
    "stations_table = html_tables[1]\n",
    "\n",
    "# Extracting the first column of the table having names\n",
    "all_th = stations_table.find_all('th')\n",
    "\n",
    "# Extracting the value from <a> tag\n",
    "subway_stations = [s.upper() for s in (th.find('a').text for th in all_th[10:])]\n",
    "\n",
    "# Removing the dot \".\" from the names\n",
    "subway_stations = [str(s).replace(\".\",\"\") for s in subway_stations]\n",
    "\n",
    "# Printing the names of stations having \"YONGE\" in their name\n",
    "print(f\"Stations having YONGE in it: {list(filter(lambda s: 'YONGE' in s, subway_stations))}\")\n",
    "\n",
    "#removing the word \"YONGE\" from the station names\n",
    "subway_stations = [s1.replace(\"–\",\"\") for s1 in (str(s).replace('YONGE', \"\") for s in subway_stations)]\n",
    "\n",
    "# Removing the dot \"'\" from the names\n",
    "subway_stations = [str(s).replace(\"'\",\"\") for s in subway_stations]\n",
    "\n",
    "subway_stations.sort()"
   ]
  },
  {
   "cell_type": "markdown",
   "id": "3b6d760f",
   "metadata": {},
   "source": [
    "### Segregating Line 1 and Line 2 Stations"
   ]
  },
  {
   "cell_type": "code",
   "execution_count": 21,
   "id": "fb5f07b4",
   "metadata": {},
   "outputs": [],
   "source": [
    "# Extracting all the Table Rows (TRs) from the html table\n",
    "all_tr = stations_table.find_all('tr')\n",
    "\n",
    "# Extracting Stations\n",
    "line1_stations = []\n",
    "line2_stations = []\n",
    "for tr in all_tr[1:]:\n",
    "    for span in tr.find_all('td')[0].find_all('span'):\n",
    "        # Checking for Line 1 from all the spans\n",
    "        if ('Line 1' in span.find('a').attrs['title']):\n",
    "            line1_stations.append(tr.find('th').find('a').text)\n",
    "        \n",
    "        # Checking for Line 2 from all the spans\n",
    "        if ('Line 2' in span.find('a').attrs['title']): # Not using elif because a station can be in 2 lines\n",
    "            line2_stations.append(tr.find('th').find('a').text)"
   ]
  },
  {
   "cell_type": "code",
   "execution_count": 22,
   "id": "f51fc110",
   "metadata": {},
   "outputs": [
    {
     "name": "stdout",
     "output_type": "stream",
     "text": [
      "No. of Stations in line 1: 38\n",
      "No. of Stations in line 2: 31\n"
     ]
    }
   ],
   "source": [
    "print(f'No. of Stations in line 1: {len(line1_stations)}')\n",
    "print(f'No. of Stations in line 2: {len(line2_stations)}')"
   ]
  },
  {
   "cell_type": "code",
   "execution_count": 23,
   "id": "83f70474",
   "metadata": {},
   "outputs": [],
   "source": [
    "# Cleaning the values of line1 and line 2 station list\n",
    "line1_stations = [\n",
    "    s.replace('\\'','').upper() for s in \n",
    "        (s.replace(\"–\",\"\") for s in \n",
    "             ((str(s).replace('YONGE', \"\") for s in \n",
    "                   (str(s).replace(\".\",\"\") for s in  \n",
    "                        (str(s).replace(\".\",\"\") for s in line1_stations)))))]\n",
    "\n",
    "line2_stations = [\n",
    "    s.replace('\\'','').upper() for s in \n",
    "        (s.replace(\"–\",\"\") for s in \n",
    "             ((str(s).replace('YONGE', \"\") for s in \n",
    "                   (str(s).replace(\".\",\"\") for s in  \n",
    "                        (str(s).replace(\".\",\"\") for s in line2_stations)))))]"
   ]
  },
  {
   "cell_type": "markdown",
   "id": "dbe922a1",
   "metadata": {},
   "source": [
    "<p style=\"font-size: 17px; letter-spacing:1px; font-family: 'Charter', Times, serif;\">\n",
    "Now that we have scraped all the working stations we will clean the Station column in our data sets.\n",
    "</p>\n",
    "\n",
    "<p style=\"font-size: 17px; letter-spacing:1px; font-family: 'Charter', Times, serif;\">\n",
    "Firstly we will remove all the unwanted symbols from the station names. <br>\n",
    "We will only consider delay time that occurred on the station for other's station names are not consistent\n",
    "</p>"
   ]
  },
  {
   "cell_type": "code",
   "execution_count": 24,
   "id": "8dab0e24",
   "metadata": {},
   "outputs": [],
   "source": [
    "df1 = df.copy()"
   ]
  },
  {
   "cell_type": "code",
   "execution_count": 25,
   "id": "334c30c7",
   "metadata": {},
   "outputs": [],
   "source": [
    "# Removing \"YONGE\" from the station names\n",
    "df.Station = df.Station.map(lambda s: str(s).replace(\"YONGE\",\"\"))\n",
    "\n",
    "# Removing \".\" from the station names\n",
    "df.Station = df.Station.map(lambda s: str(s).replace(\".\",\"\"))\n",
    "\n",
    "# Removing \"'\" from the station names\n",
    "df.Station = df.Station.map(lambda s: str(s).replace(\"'\",\"\"))\n",
    "\n",
    "# Removing \"'\" from the station names\n",
    "df.Station = df.Station.map(lambda s: str(s).replace(\"-\",\"\"))\n",
    "\n",
    "# Replacing STAITON(wrongly typed) with STATION\n",
    "df['Station'] = df.Station.apply(lambda s: s.replace('STAITON','').strip())\n",
    "\n",
    "\n",
    "# Removing \"STATION\" keyword from the Station names\n",
    "df['Station'] = df.Station.map(lambda s: f\"{' '.join(s.split(' ')[ :-1]).strip()}\" if 'STATIO' in s else s)\n",
    "\n",
    "# Creating at_station column with values 0 & 1, 1 means at the station\n",
    "df['at_station'] = df.Station.map(lambda s: 1 if str(s) in subway_stations else 0)"
   ]
  },
  {
   "cell_type": "code",
   "execution_count": 26,
   "id": "07ba2a3a",
   "metadata": {},
   "outputs": [
    {
     "name": "stdout",
     "output_type": "stream",
     "text": [
      "NORTH YORK CENTRE\n",
      "VAUGHAN\n"
     ]
    }
   ],
   "source": [
    "# Checking which are the stations that is not included in the delay \"at station\"\n",
    "delay_stations = df.loc[df['at_station'] == 1]['Station'].unique()\n",
    "for station in subway_stations: \n",
    "    if station not in delay_stations:\n",
    "        print(station)"
   ]
  },
  {
   "cell_type": "code",
   "execution_count": 27,
   "id": "39a6740a",
   "metadata": {},
   "outputs": [
    {
     "data": {
      "text/html": [
       "<div>\n",
       "<style scoped>\n",
       "    .dataframe tbody tr th:only-of-type {\n",
       "        vertical-align: middle;\n",
       "    }\n",
       "\n",
       "    .dataframe tbody tr th {\n",
       "        vertical-align: top;\n",
       "    }\n",
       "\n",
       "    .dataframe thead th {\n",
       "        text-align: right;\n",
       "    }\n",
       "</style>\n",
       "<table border=\"1\" class=\"dataframe\">\n",
       "  <thead>\n",
       "    <tr style=\"text-align: right;\">\n",
       "      <th></th>\n",
       "      <th>Time</th>\n",
       "      <th>Day</th>\n",
       "      <th>Station</th>\n",
       "      <th>Code</th>\n",
       "      <th>Min Delay</th>\n",
       "      <th>Min Gap</th>\n",
       "      <th>Bound</th>\n",
       "      <th>Line</th>\n",
       "      <th>Vehicle</th>\n",
       "      <th>Month</th>\n",
       "      <th>at_station</th>\n",
       "    </tr>\n",
       "  </thead>\n",
       "  <tbody>\n",
       "    <tr>\n",
       "      <th>97</th>\n",
       "      <td>morning</td>\n",
       "      <td>Tuesday</td>\n",
       "      <td>NORTH YORK CTR</td>\n",
       "      <td>PUOPO</td>\n",
       "      <td>3</td>\n",
       "      <td>6</td>\n",
       "      <td>S</td>\n",
       "      <td>YU</td>\n",
       "      <td>5736</td>\n",
       "      <td>1</td>\n",
       "      <td>0</td>\n",
       "    </tr>\n",
       "    <tr>\n",
       "      <th>100</th>\n",
       "      <td>morning</td>\n",
       "      <td>Tuesday</td>\n",
       "      <td>NORTH YORK CTR</td>\n",
       "      <td>PUOPO</td>\n",
       "      <td>5</td>\n",
       "      <td>8</td>\n",
       "      <td>S</td>\n",
       "      <td>YU</td>\n",
       "      <td>5741</td>\n",
       "      <td>1</td>\n",
       "      <td>0</td>\n",
       "    </tr>\n",
       "    <tr>\n",
       "      <th>112</th>\n",
       "      <td>afternoon</td>\n",
       "      <td>Tuesday</td>\n",
       "      <td>NORTH YORK CTR</td>\n",
       "      <td>PUOPO</td>\n",
       "      <td>5</td>\n",
       "      <td>8</td>\n",
       "      <td>S</td>\n",
       "      <td>YU</td>\n",
       "      <td>5886</td>\n",
       "      <td>1</td>\n",
       "      <td>0</td>\n",
       "    </tr>\n",
       "    <tr>\n",
       "      <th>160</th>\n",
       "      <td>morning</td>\n",
       "      <td>Wednesday</td>\n",
       "      <td>NORTH YORK CTR</td>\n",
       "      <td>MUIS</td>\n",
       "      <td>0</td>\n",
       "      <td>0</td>\n",
       "      <td>S</td>\n",
       "      <td>YU</td>\n",
       "      <td>0</td>\n",
       "      <td>1</td>\n",
       "      <td>0</td>\n",
       "    </tr>\n",
       "    <tr>\n",
       "      <th>710</th>\n",
       "      <td>night</td>\n",
       "      <td>Friday</td>\n",
       "      <td>NORTH YORK CTR</td>\n",
       "      <td>MUIS</td>\n",
       "      <td>0</td>\n",
       "      <td>0</td>\n",
       "      <td>NaN</td>\n",
       "      <td>YU</td>\n",
       "      <td>0</td>\n",
       "      <td>1</td>\n",
       "      <td>0</td>\n",
       "    </tr>\n",
       "  </tbody>\n",
       "</table>\n",
       "</div>"
      ],
      "text/plain": [
       "          Time        Day         Station   Code  Min Delay  Min Gap Bound  \\\n",
       "97     morning    Tuesday  NORTH YORK CTR  PUOPO          3        6     S   \n",
       "100    morning    Tuesday  NORTH YORK CTR  PUOPO          5        8     S   \n",
       "112  afternoon    Tuesday  NORTH YORK CTR  PUOPO          5        8     S   \n",
       "160    morning  Wednesday  NORTH YORK CTR   MUIS          0        0     S   \n",
       "710      night     Friday  NORTH YORK CTR   MUIS          0        0   NaN   \n",
       "\n",
       "    Line  Vehicle  Month  at_station  \n",
       "97    YU     5736      1           0  \n",
       "100   YU     5741      1           0  \n",
       "112   YU     5886      1           0  \n",
       "160   YU        0      1           0  \n",
       "710   YU        0      1           0  "
      ]
     },
     "execution_count": 27,
     "metadata": {},
     "output_type": "execute_result"
    }
   ],
   "source": [
    "# checking if any row has a north york station or not\n",
    "df[df.Station.str.contains(\"NORTH YORK\")].head()"
   ]
  },
  {
   "cell_type": "code",
   "execution_count": 28,
   "id": "d9802884",
   "metadata": {},
   "outputs": [],
   "source": [
    "# changing NORTH YORK CTR to NORTH YORK CENTRE\n",
    "df.loc[df['Station'] == 'NORTH YORK CTR', ['Station']] = 'NORTH YORK CENTRE'\n",
    "\n",
    "# changing at_station value to 1\n",
    "df.loc[df['Station'] == 'NORTH YORK CENTRE', ['at_station']] = 1"
   ]
  },
  {
   "cell_type": "code",
   "execution_count": 29,
   "id": "74187f83",
   "metadata": {},
   "outputs": [
    {
     "data": {
      "text/html": [
       "<div>\n",
       "<style scoped>\n",
       "    .dataframe tbody tr th:only-of-type {\n",
       "        vertical-align: middle;\n",
       "    }\n",
       "\n",
       "    .dataframe tbody tr th {\n",
       "        vertical-align: top;\n",
       "    }\n",
       "\n",
       "    .dataframe thead th {\n",
       "        text-align: right;\n",
       "    }\n",
       "</style>\n",
       "<table border=\"1\" class=\"dataframe\">\n",
       "  <thead>\n",
       "    <tr style=\"text-align: right;\">\n",
       "      <th></th>\n",
       "      <th>Time</th>\n",
       "      <th>Day</th>\n",
       "      <th>Station</th>\n",
       "      <th>Code</th>\n",
       "      <th>Min Delay</th>\n",
       "      <th>Min Gap</th>\n",
       "      <th>Bound</th>\n",
       "      <th>Line</th>\n",
       "      <th>Vehicle</th>\n",
       "      <th>Month</th>\n",
       "      <th>at_station</th>\n",
       "    </tr>\n",
       "  </thead>\n",
       "  <tbody>\n",
       "    <tr>\n",
       "      <th>7</th>\n",
       "      <td>morning</td>\n",
       "      <td>Sunday</td>\n",
       "      <td>VAUGHAN MC</td>\n",
       "      <td>TUNOA</td>\n",
       "      <td>6</td>\n",
       "      <td>12</td>\n",
       "      <td>S</td>\n",
       "      <td>YU</td>\n",
       "      <td>5451</td>\n",
       "      <td>1</td>\n",
       "      <td>0</td>\n",
       "    </tr>\n",
       "    <tr>\n",
       "      <th>45</th>\n",
       "      <td>night</td>\n",
       "      <td>Monday</td>\n",
       "      <td>VAUGHAN MC</td>\n",
       "      <td>SUDP</td>\n",
       "      <td>0</td>\n",
       "      <td>0</td>\n",
       "      <td>S</td>\n",
       "      <td>YU</td>\n",
       "      <td>5801</td>\n",
       "      <td>1</td>\n",
       "      <td>0</td>\n",
       "    </tr>\n",
       "    <tr>\n",
       "      <th>47</th>\n",
       "      <td>night</td>\n",
       "      <td>Monday</td>\n",
       "      <td>VAUGHAN MC</td>\n",
       "      <td>SUDP</td>\n",
       "      <td>0</td>\n",
       "      <td>0</td>\n",
       "      <td>S</td>\n",
       "      <td>YU</td>\n",
       "      <td>5976</td>\n",
       "      <td>1</td>\n",
       "      <td>0</td>\n",
       "    </tr>\n",
       "    <tr>\n",
       "      <th>109</th>\n",
       "      <td>afternoon</td>\n",
       "      <td>Tuesday</td>\n",
       "      <td>VAUGHAN MC</td>\n",
       "      <td>MUI</td>\n",
       "      <td>3</td>\n",
       "      <td>6</td>\n",
       "      <td>S</td>\n",
       "      <td>YU</td>\n",
       "      <td>6106</td>\n",
       "      <td>1</td>\n",
       "      <td>0</td>\n",
       "    </tr>\n",
       "    <tr>\n",
       "      <th>242</th>\n",
       "      <td>evening</td>\n",
       "      <td>Thursday</td>\n",
       "      <td>VAUGHAN MC</td>\n",
       "      <td>MUI</td>\n",
       "      <td>0</td>\n",
       "      <td>0</td>\n",
       "      <td>NaN</td>\n",
       "      <td>YU</td>\n",
       "      <td>5543</td>\n",
       "      <td>1</td>\n",
       "      <td>0</td>\n",
       "    </tr>\n",
       "  </tbody>\n",
       "</table>\n",
       "</div>"
      ],
      "text/plain": [
       "          Time       Day     Station   Code  Min Delay  Min Gap Bound Line  \\\n",
       "7      morning    Sunday  VAUGHAN MC  TUNOA          6       12     S   YU   \n",
       "45       night    Monday  VAUGHAN MC   SUDP          0        0     S   YU   \n",
       "47       night    Monday  VAUGHAN MC   SUDP          0        0     S   YU   \n",
       "109  afternoon   Tuesday  VAUGHAN MC    MUI          3        6     S   YU   \n",
       "242    evening  Thursday  VAUGHAN MC    MUI          0        0   NaN   YU   \n",
       "\n",
       "     Vehicle  Month  at_station  \n",
       "7       5451      1           0  \n",
       "45      5801      1           0  \n",
       "47      5976      1           0  \n",
       "109     6106      1           0  \n",
       "242     5543      1           0  "
      ]
     },
     "execution_count": 29,
     "metadata": {},
     "output_type": "execute_result"
    }
   ],
   "source": [
    "# checking if any row has a VAUGHAN station or not\n",
    "df[df.Station.str.contains(\"VAUGHAN\")].head()"
   ]
  },
  {
   "cell_type": "code",
   "execution_count": 30,
   "id": "c892040e",
   "metadata": {},
   "outputs": [],
   "source": [
    "# changing at_station value to 1\n",
    "df.loc[df['Station'] == 'VAUGHAN MC', ['at_station']] = 1\n",
    "\n",
    "# changing VAUGHAN MC to VAUGHAN\n",
    "df.loc[df['Station'] == 'VAUGHAN MC', ['Station']] = 'VAUGHAN'"
   ]
  },
  {
   "cell_type": "code",
   "execution_count": 31,
   "id": "56d6c95a",
   "metadata": {
    "scrolled": true
   },
   "outputs": [
    {
     "name": "stdout",
     "output_type": "stream",
     "text": [
      "Number of delays which occurred AT Station: 18858\n"
     ]
    }
   ],
   "source": [
    "print(f\"Number of delays which occurred AT Station: {df[df['at_station'] == 1].shape[0]}\")"
   ]
  },
  {
   "cell_type": "code",
   "execution_count": 32,
   "id": "ce8975f2",
   "metadata": {},
   "outputs": [],
   "source": [
    "# drop the rows which are not \"at_station\"\n",
    "df.drop(df[df['at_station'] == 0].index, inplace=True)"
   ]
  },
  {
   "cell_type": "code",
   "execution_count": 33,
   "id": "9513b713",
   "metadata": {},
   "outputs": [],
   "source": [
    "# dropping the at_station column as it is no longer needed\n",
    "df.drop(columns=['at_station'], inplace=True)"
   ]
  },
  {
   "cell_type": "code",
   "execution_count": 34,
   "id": "829fab32",
   "metadata": {},
   "outputs": [
    {
     "data": {
      "text/html": [
       "<div>\n",
       "<style scoped>\n",
       "    .dataframe tbody tr th:only-of-type {\n",
       "        vertical-align: middle;\n",
       "    }\n",
       "\n",
       "    .dataframe tbody tr th {\n",
       "        vertical-align: top;\n",
       "    }\n",
       "\n",
       "    .dataframe thead th {\n",
       "        text-align: right;\n",
       "    }\n",
       "</style>\n",
       "<table border=\"1\" class=\"dataframe\">\n",
       "  <thead>\n",
       "    <tr style=\"text-align: right;\">\n",
       "      <th></th>\n",
       "      <th>Time</th>\n",
       "      <th>Day</th>\n",
       "      <th>Station</th>\n",
       "      <th>Code</th>\n",
       "      <th>Min Delay</th>\n",
       "      <th>Min Gap</th>\n",
       "      <th>Bound</th>\n",
       "      <th>Line</th>\n",
       "      <th>Vehicle</th>\n",
       "      <th>Month</th>\n",
       "    </tr>\n",
       "  </thead>\n",
       "  <tbody>\n",
       "    <tr>\n",
       "      <th>0</th>\n",
       "      <td>night</td>\n",
       "      <td>Sunday</td>\n",
       "      <td>MUSEUM</td>\n",
       "      <td>MUPAA</td>\n",
       "      <td>3</td>\n",
       "      <td>9</td>\n",
       "      <td>S</td>\n",
       "      <td>YU</td>\n",
       "      <td>5931</td>\n",
       "      <td>1</td>\n",
       "    </tr>\n",
       "    <tr>\n",
       "      <th>1</th>\n",
       "      <td>night</td>\n",
       "      <td>Sunday</td>\n",
       "      <td>KIPLING</td>\n",
       "      <td>MUIS</td>\n",
       "      <td>0</td>\n",
       "      <td>0</td>\n",
       "      <td>E</td>\n",
       "      <td>BD</td>\n",
       "      <td>5341</td>\n",
       "      <td>1</td>\n",
       "    </tr>\n",
       "    <tr>\n",
       "      <th>2</th>\n",
       "      <td>night</td>\n",
       "      <td>Sunday</td>\n",
       "      <td>WARDEN</td>\n",
       "      <td>SUO</td>\n",
       "      <td>0</td>\n",
       "      <td>0</td>\n",
       "      <td>W</td>\n",
       "      <td>BD</td>\n",
       "      <td>0</td>\n",
       "      <td>1</td>\n",
       "    </tr>\n",
       "    <tr>\n",
       "      <th>3</th>\n",
       "      <td>night</td>\n",
       "      <td>Sunday</td>\n",
       "      <td>KEELE</td>\n",
       "      <td>MUIS</td>\n",
       "      <td>0</td>\n",
       "      <td>0</td>\n",
       "      <td>NaN</td>\n",
       "      <td>BD</td>\n",
       "      <td>0</td>\n",
       "      <td>1</td>\n",
       "    </tr>\n",
       "    <tr>\n",
       "      <th>4</th>\n",
       "      <td>morning</td>\n",
       "      <td>Sunday</td>\n",
       "      <td>BATHURST</td>\n",
       "      <td>MUIS</td>\n",
       "      <td>0</td>\n",
       "      <td>0</td>\n",
       "      <td>NaN</td>\n",
       "      <td>BD</td>\n",
       "      <td>0</td>\n",
       "      <td>1</td>\n",
       "    </tr>\n",
       "  </tbody>\n",
       "</table>\n",
       "</div>"
      ],
      "text/plain": [
       "      Time     Day   Station   Code  Min Delay  Min Gap Bound Line  Vehicle  \\\n",
       "0    night  Sunday    MUSEUM  MUPAA          3        9     S   YU     5931   \n",
       "1    night  Sunday   KIPLING   MUIS          0        0     E   BD     5341   \n",
       "2    night  Sunday    WARDEN    SUO          0        0     W   BD        0   \n",
       "3    night  Sunday     KEELE   MUIS          0        0   NaN   BD        0   \n",
       "4  morning  Sunday  BATHURST   MUIS          0        0   NaN   BD        0   \n",
       "\n",
       "   Month  \n",
       "0      1  \n",
       "1      1  \n",
       "2      1  \n",
       "3      1  \n",
       "4      1  "
      ]
     },
     "execution_count": 34,
     "metadata": {},
     "output_type": "execute_result"
    }
   ],
   "source": [
    "df.head()"
   ]
  },
  {
   "cell_type": "markdown",
   "id": "e725652e",
   "metadata": {},
   "source": [
    "## Independent Feature: _Min Delay_"
   ]
  },
  {
   "cell_type": "code",
   "execution_count": 35,
   "id": "0524160b",
   "metadata": {},
   "outputs": [
    {
     "name": "stdout",
     "output_type": "stream",
     "text": [
      "No. of null values of Min Delay: 0\n"
     ]
    }
   ],
   "source": [
    "print(f\"No. of null values of Min Delay: {df['Min Delay'].isnull().sum()}\")"
   ]
  },
  {
   "cell_type": "markdown",
   "id": "b0070c60",
   "metadata": {},
   "source": [
    "<p style=\"font-size: 17px; letter-spacing:1px; font-family: 'Charter', Times, serif;\">\n",
    "    Since the Min Delay is already continous and there are no null values, there is nothing to clean in this feature.\n",
    "</p>"
   ]
  },
  {
   "cell_type": "markdown",
   "id": "54b70798",
   "metadata": {},
   "source": [
    "## Independent Feature: _Min Gap_"
   ]
  },
  {
   "cell_type": "code",
   "execution_count": 36,
   "id": "4e7a96f5",
   "metadata": {},
   "outputs": [
    {
     "name": "stdout",
     "output_type": "stream",
     "text": [
      "No. of null values of Min Gap: 0\n"
     ]
    }
   ],
   "source": [
    "print(f\"No. of null values of Min Gap: {df['Min Gap'].isnull().sum()}\")"
   ]
  },
  {
   "cell_type": "markdown",
   "id": "e430ca5c",
   "metadata": {},
   "source": [
    "<p style=\"font-size: 17px; letter-spacing:1px; font-family: 'Charter', Times, serif;\">\n",
    "    Since the Min Gap is already continous and there are no null values, there is nothing to clean in this feature.\n",
    "</p>"
   ]
  },
  {
   "cell_type": "markdown",
   "id": "cafda95f",
   "metadata": {},
   "source": [
    "## Independent Feature: _Line_"
   ]
  },
  {
   "cell_type": "markdown",
   "id": "3f30332c",
   "metadata": {},
   "source": [
    "<p style=\"font-size: 17px; letter-spacing:1px; font-family: 'Charter', Times, serif;\">\n",
    "    Currently There are only two active lines YU(Line 1) &amp; BD(Line 2) so, we will drop the other Lines.\n",
    "</p>"
   ]
  },
  {
   "cell_type": "code",
   "execution_count": 37,
   "id": "4c5473ed",
   "metadata": {},
   "outputs": [
    {
     "name": "stdout",
     "output_type": "stream",
     "text": [
      "Subway Lines: ['YU' 'BD' 'SHP' nan 'YUS' '77 SWANSEA']\n"
     ]
    }
   ],
   "source": [
    "# Printing All the lines\n",
    "print(f\"Subway Lines: {df.Line.unique()}\")"
   ]
  },
  {
   "cell_type": "markdown",
   "id": "eed4fdbe",
   "metadata": {},
   "source": [
    "<p style=\"font-size: 17px; letter-spacing:1px; font-family: 'Charter', Times, serif;\">\n",
    "    Here <i>YUS</i> is wrongly typed, it is nothing but <i>YU</i> line based on the Station name, so we will rename YUS to YU.\n",
    "</p>"
   ]
  },
  {
   "cell_type": "code",
   "execution_count": 38,
   "id": "4cbb84f2",
   "metadata": {},
   "outputs": [],
   "source": [
    "# Renaming the name YUS to YU\n",
    "df.loc[df['Line'] == 'YUS', ['Line']] = 'YU'"
   ]
  },
  {
   "cell_type": "code",
   "execution_count": 39,
   "id": "5a78d225",
   "metadata": {},
   "outputs": [],
   "source": [
    "# Dropping the '77 SWANSEA' & 'SHP' Lines\n",
    "df.drop(df[df['Line'] == '77 SWANSEA'].index, inplace=True)\n",
    "df.drop(df[df['Line'] == 'SHP'].index, inplace=True)\n",
    "df.reset_index(drop=True, inplace=True)"
   ]
  },
  {
   "cell_type": "markdown",
   "id": "9011ea72",
   "metadata": {},
   "source": [
    "<p style=\"font-size: 17px; letter-spacing:1px; font-family: 'Charter', Times, serif;\">\n",
    "    Now, we will deal with <code>NaN</code> values in the Line column.<br>\n",
    "    Notice that instead of dropping the NaN values, we can identify the NaN Line values based on the Station names.\n",
    "</p>"
   ]
  },
  {
   "cell_type": "code",
   "execution_count": 40,
   "id": "5f4d6af3",
   "metadata": {},
   "outputs": [
    {
     "data": {
      "text/html": [
       "<div>\n",
       "<style scoped>\n",
       "    .dataframe tbody tr th:only-of-type {\n",
       "        vertical-align: middle;\n",
       "    }\n",
       "\n",
       "    .dataframe tbody tr th {\n",
       "        vertical-align: top;\n",
       "    }\n",
       "\n",
       "    .dataframe thead th {\n",
       "        text-align: right;\n",
       "    }\n",
       "</style>\n",
       "<table border=\"1\" class=\"dataframe\">\n",
       "  <thead>\n",
       "    <tr style=\"text-align: right;\">\n",
       "      <th></th>\n",
       "      <th>Time</th>\n",
       "      <th>Day</th>\n",
       "      <th>Station</th>\n",
       "      <th>Code</th>\n",
       "      <th>Min Delay</th>\n",
       "      <th>Min Gap</th>\n",
       "      <th>Bound</th>\n",
       "      <th>Line</th>\n",
       "      <th>Vehicle</th>\n",
       "      <th>Month</th>\n",
       "    </tr>\n",
       "  </thead>\n",
       "  <tbody>\n",
       "    <tr>\n",
       "      <th>108</th>\n",
       "      <td>night</td>\n",
       "      <td>Tuesday</td>\n",
       "      <td>DUNDAS</td>\n",
       "      <td>SUAP</td>\n",
       "      <td>0</td>\n",
       "      <td>0</td>\n",
       "      <td>NaN</td>\n",
       "      <td>NaN</td>\n",
       "      <td>0</td>\n",
       "      <td>1</td>\n",
       "    </tr>\n",
       "    <tr>\n",
       "      <th>364</th>\n",
       "      <td>night</td>\n",
       "      <td>Monday</td>\n",
       "      <td>VICTORIA PARK</td>\n",
       "      <td>SUO</td>\n",
       "      <td>0</td>\n",
       "      <td>0</td>\n",
       "      <td>NaN</td>\n",
       "      <td>NaN</td>\n",
       "      <td>0</td>\n",
       "      <td>1</td>\n",
       "    </tr>\n",
       "    <tr>\n",
       "      <th>1181</th>\n",
       "      <td>night</td>\n",
       "      <td>Saturday</td>\n",
       "      <td>YORK MILLS</td>\n",
       "      <td>MUIS</td>\n",
       "      <td>0</td>\n",
       "      <td>0</td>\n",
       "      <td>NaN</td>\n",
       "      <td>NaN</td>\n",
       "      <td>0</td>\n",
       "      <td>1</td>\n",
       "    </tr>\n",
       "    <tr>\n",
       "      <th>1779</th>\n",
       "      <td>night</td>\n",
       "      <td>Wednesday</td>\n",
       "      <td>WOODBINE</td>\n",
       "      <td>MUIS</td>\n",
       "      <td>0</td>\n",
       "      <td>0</td>\n",
       "      <td>NaN</td>\n",
       "      <td>NaN</td>\n",
       "      <td>0</td>\n",
       "      <td>2</td>\n",
       "    </tr>\n",
       "    <tr>\n",
       "      <th>2441</th>\n",
       "      <td>night</td>\n",
       "      <td>Tuesday</td>\n",
       "      <td>ST ANDREW</td>\n",
       "      <td>MUIE</td>\n",
       "      <td>0</td>\n",
       "      <td>0</td>\n",
       "      <td>NaN</td>\n",
       "      <td>NaN</td>\n",
       "      <td>0</td>\n",
       "      <td>2</td>\n",
       "    </tr>\n",
       "    <tr>\n",
       "      <th>2699</th>\n",
       "      <td>morning</td>\n",
       "      <td>Monday</td>\n",
       "      <td>UNION</td>\n",
       "      <td>MUIRS</td>\n",
       "      <td>0</td>\n",
       "      <td>0</td>\n",
       "      <td>NaN</td>\n",
       "      <td>NaN</td>\n",
       "      <td>0</td>\n",
       "      <td>2</td>\n",
       "    </tr>\n",
       "    <tr>\n",
       "      <th>4213</th>\n",
       "      <td>night</td>\n",
       "      <td>Tuesday</td>\n",
       "      <td>BLOOR</td>\n",
       "      <td>MUIS</td>\n",
       "      <td>0</td>\n",
       "      <td>0</td>\n",
       "      <td>NaN</td>\n",
       "      <td>NaN</td>\n",
       "      <td>0</td>\n",
       "      <td>3</td>\n",
       "    </tr>\n",
       "    <tr>\n",
       "      <th>4624</th>\n",
       "      <td>night</td>\n",
       "      <td>Tuesday</td>\n",
       "      <td>SHEPPARD WEST</td>\n",
       "      <td>MUIS</td>\n",
       "      <td>0</td>\n",
       "      <td>0</td>\n",
       "      <td>NaN</td>\n",
       "      <td>NaN</td>\n",
       "      <td>0</td>\n",
       "      <td>4</td>\n",
       "    </tr>\n",
       "    <tr>\n",
       "      <th>7733</th>\n",
       "      <td>night</td>\n",
       "      <td>Friday</td>\n",
       "      <td>WILSON</td>\n",
       "      <td>MUPAA</td>\n",
       "      <td>0</td>\n",
       "      <td>0</td>\n",
       "      <td>N</td>\n",
       "      <td>NaN</td>\n",
       "      <td>5536</td>\n",
       "      <td>6</td>\n",
       "    </tr>\n",
       "    <tr>\n",
       "      <th>8559</th>\n",
       "      <td>night</td>\n",
       "      <td>Monday</td>\n",
       "      <td>DONLANDS</td>\n",
       "      <td>MUIS</td>\n",
       "      <td>0</td>\n",
       "      <td>0</td>\n",
       "      <td>NaN</td>\n",
       "      <td>NaN</td>\n",
       "      <td>0</td>\n",
       "      <td>6</td>\n",
       "    </tr>\n",
       "    <tr>\n",
       "      <th>10437</th>\n",
       "      <td>night</td>\n",
       "      <td>Sunday</td>\n",
       "      <td>VAUGHAN</td>\n",
       "      <td>MUIS</td>\n",
       "      <td>0</td>\n",
       "      <td>0</td>\n",
       "      <td>NaN</td>\n",
       "      <td>NaN</td>\n",
       "      <td>0</td>\n",
       "      <td>8</td>\n",
       "    </tr>\n",
       "    <tr>\n",
       "      <th>12228</th>\n",
       "      <td>evening</td>\n",
       "      <td>Tuesday</td>\n",
       "      <td>DON MILLS</td>\n",
       "      <td>SUO</td>\n",
       "      <td>0</td>\n",
       "      <td>0</td>\n",
       "      <td>NaN</td>\n",
       "      <td>NaN</td>\n",
       "      <td>0</td>\n",
       "      <td>9</td>\n",
       "    </tr>\n",
       "    <tr>\n",
       "      <th>13886</th>\n",
       "      <td>night</td>\n",
       "      <td>Friday</td>\n",
       "      <td>BLOOR</td>\n",
       "      <td>SUAP</td>\n",
       "      <td>0</td>\n",
       "      <td>0</td>\n",
       "      <td>NaN</td>\n",
       "      <td>NaN</td>\n",
       "      <td>0</td>\n",
       "      <td>10</td>\n",
       "    </tr>\n",
       "    <tr>\n",
       "      <th>15411</th>\n",
       "      <td>night</td>\n",
       "      <td>Saturday</td>\n",
       "      <td>UNION</td>\n",
       "      <td>MUIS</td>\n",
       "      <td>0</td>\n",
       "      <td>0</td>\n",
       "      <td>NaN</td>\n",
       "      <td>NaN</td>\n",
       "      <td>0</td>\n",
       "      <td>11</td>\n",
       "    </tr>\n",
       "    <tr>\n",
       "      <th>15412</th>\n",
       "      <td>night</td>\n",
       "      <td>Saturday</td>\n",
       "      <td>KIPLING</td>\n",
       "      <td>MUIE</td>\n",
       "      <td>0</td>\n",
       "      <td>0</td>\n",
       "      <td>NaN</td>\n",
       "      <td>NaN</td>\n",
       "      <td>0</td>\n",
       "      <td>11</td>\n",
       "    </tr>\n",
       "    <tr>\n",
       "      <th>15958</th>\n",
       "      <td>night</td>\n",
       "      <td>Tuesday</td>\n",
       "      <td>EGLINTON WEST</td>\n",
       "      <td>MUIS</td>\n",
       "      <td>0</td>\n",
       "      <td>0</td>\n",
       "      <td>NaN</td>\n",
       "      <td>NaN</td>\n",
       "      <td>0</td>\n",
       "      <td>11</td>\n",
       "    </tr>\n",
       "    <tr>\n",
       "      <th>15963</th>\n",
       "      <td>night</td>\n",
       "      <td>Tuesday</td>\n",
       "      <td>KING</td>\n",
       "      <td>SUAP</td>\n",
       "      <td>0</td>\n",
       "      <td>0</td>\n",
       "      <td>NaN</td>\n",
       "      <td>NaN</td>\n",
       "      <td>0</td>\n",
       "      <td>11</td>\n",
       "    </tr>\n",
       "  </tbody>\n",
       "</table>\n",
       "</div>"
      ],
      "text/plain": [
       "          Time        Day        Station   Code  Min Delay  Min Gap Bound  \\\n",
       "108      night    Tuesday         DUNDAS   SUAP          0        0   NaN   \n",
       "364      night     Monday  VICTORIA PARK    SUO          0        0   NaN   \n",
       "1181     night   Saturday     YORK MILLS   MUIS          0        0   NaN   \n",
       "1779     night  Wednesday       WOODBINE   MUIS          0        0   NaN   \n",
       "2441     night    Tuesday      ST ANDREW   MUIE          0        0   NaN   \n",
       "2699   morning     Monday          UNION  MUIRS          0        0   NaN   \n",
       "4213     night    Tuesday          BLOOR   MUIS          0        0   NaN   \n",
       "4624     night    Tuesday  SHEPPARD WEST   MUIS          0        0   NaN   \n",
       "7733     night     Friday         WILSON  MUPAA          0        0     N   \n",
       "8559     night     Monday       DONLANDS   MUIS          0        0   NaN   \n",
       "10437    night     Sunday        VAUGHAN   MUIS          0        0   NaN   \n",
       "12228  evening    Tuesday      DON MILLS    SUO          0        0   NaN   \n",
       "13886    night     Friday          BLOOR   SUAP          0        0   NaN   \n",
       "15411    night   Saturday          UNION   MUIS          0        0   NaN   \n",
       "15412    night   Saturday        KIPLING   MUIE          0        0   NaN   \n",
       "15958    night    Tuesday  EGLINTON WEST   MUIS          0        0   NaN   \n",
       "15963    night    Tuesday           KING   SUAP          0        0   NaN   \n",
       "\n",
       "      Line  Vehicle  Month  \n",
       "108    NaN        0      1  \n",
       "364    NaN        0      1  \n",
       "1181   NaN        0      1  \n",
       "1779   NaN        0      2  \n",
       "2441   NaN        0      2  \n",
       "2699   NaN        0      2  \n",
       "4213   NaN        0      3  \n",
       "4624   NaN        0      4  \n",
       "7733   NaN     5536      6  \n",
       "8559   NaN        0      6  \n",
       "10437  NaN        0      8  \n",
       "12228  NaN        0      9  \n",
       "13886  NaN        0     10  \n",
       "15411  NaN        0     11  \n",
       "15412  NaN        0     11  \n",
       "15958  NaN        0     11  \n",
       "15963  NaN        0     11  "
      ]
     },
     "execution_count": 40,
     "metadata": {},
     "output_type": "execute_result"
    }
   ],
   "source": [
    "df[df.Line.isnull()]"
   ]
  },
  {
   "cell_type": "code",
   "execution_count": 41,
   "id": "be5f09b4",
   "metadata": {},
   "outputs": [],
   "source": [
    "def replace_line(row):\n",
    "    if(pd.isnull(row['Line'])):\n",
    "        if row['Station'] in line1_stations:\n",
    "            row['Line'] = 'YU'\n",
    "        else:\n",
    "            row['Line'] = 'BD'\n",
    "    return row"
   ]
  },
  {
   "cell_type": "code",
   "execution_count": 42,
   "id": "35c9cf51",
   "metadata": {},
   "outputs": [],
   "source": [
    "# Replaceing the Line NaN values based on Station names\n",
    "df = df.apply(replace_line, axis=1)"
   ]
  },
  {
   "cell_type": "code",
   "execution_count": 43,
   "id": "993e7f53",
   "metadata": {},
   "outputs": [
    {
     "name": "stdout",
     "output_type": "stream",
     "text": [
      "Subway Lines: ['YU' 'BD']\n",
      "No. of null values in Line column: 0\n"
     ]
    }
   ],
   "source": [
    "print(f\"Subway Lines: {df.Line.unique()}\")\n",
    "print(f\"No. of null values in Line column: {df.Line.isnull().sum()}\")"
   ]
  },
  {
   "cell_type": "markdown",
   "id": "29d2645a",
   "metadata": {},
   "source": [
    "## Independent Feature: _Bound_"
   ]
  },
  {
   "cell_type": "markdown",
   "id": "5e9cb113",
   "metadata": {},
   "source": [
    "<p style=\"font-size: 17px; letter-spacing:1px; font-family: 'Charter', Times, serif;\">\n",
    "    We will replace the null Bound values based on the Line that train is on.\n",
    "</p>"
   ]
  },
  {
   "cell_type": "code",
   "execution_count": 44,
   "id": "df4757c7",
   "metadata": {},
   "outputs": [
    {
     "name": "stdout",
     "output_type": "stream",
     "text": [
      "No. of null values in Bound Column: 6380\n"
     ]
    }
   ],
   "source": [
    "print(f\"No. of null values in Bound Column: {df['Bound'].isnull().sum()}\")"
   ]
  },
  {
   "cell_type": "code",
   "execution_count": 45,
   "id": "d257da6c",
   "metadata": {},
   "outputs": [
    {
     "data": {
      "text/plain": [
       "array(['KEELE', 'BATHURST', 'JANE', 'WOODBINE', 'ISLINGTON', 'FINCH',\n",
       "       'SHERBOURNE', 'KING', 'GREENWOOD', 'BAY', 'ST CLAIR',\n",
       "       'DUNDAS WEST', 'LANSDOWNE', 'COLLEGE', 'BLOOR', 'COXWELL',\n",
       "       'BROADVIEW', 'CASTLE FRANK', 'RUNNYMEDE', 'FINCH WEST',\n",
       "       'QUEENS PARK', 'DUNDAS', 'OSGOODE', 'KIPLING', 'SHEPPARD WEST',\n",
       "       'EGLINTON', 'PAPE', 'OSSINGTON', 'HIGHWAY 407', 'SHEPPARD',\n",
       "       'VAUGHAN', 'EGLINTON WEST', 'HIGH PARK', 'CHESTER', 'DAVISVILLE',\n",
       "       'DONLANDS', 'QUEEN', 'UNION', 'WELLESLEY', 'MAIN STREET',\n",
       "       'YORK MILLS', 'DUFFERIN', 'VICTORIA PARK', 'LAWRENCE WEST',\n",
       "       'YORK UNIVERSITY', 'ROYAL YORK', 'DOWNSVIEW PARK', 'ST CLAIR WEST',\n",
       "       'ST PATRICK', 'GLENCAIRN', 'NORTH YORK CENTRE', 'PIONEER VILLAGE',\n",
       "       'LAWRENCE', 'OLD MILL', 'WARDEN', 'ST ANDREW', 'SUMMERHILL',\n",
       "       'WILSON', 'YORKDALE', 'DUPONT', 'ROSEDALE', 'CHRISTIE', 'MUSEUM',\n",
       "       'KENNEDY', 'DON MILLS', 'SPADINA'], dtype=object)"
      ]
     },
     "execution_count": 45,
     "metadata": {},
     "output_type": "execute_result"
    }
   ],
   "source": [
    "#Get stations where bound is NaN \n",
    "bound_stations = df[df['Bound'].isna()]['Station'].unique()\n",
    "bound_stations"
   ]
  },
  {
   "cell_type": "code",
   "execution_count": 46,
   "id": "316bf834",
   "metadata": {},
   "outputs": [],
   "source": [
    "# Replacing the NaN values in Bound column with mode on corresponding to Station column\n",
    "for station in bound_stations:\n",
    "    mode = df.loc[(df['Station'] == station), 'Bound'].mode()\n",
    "    if len(mode) == 0:\n",
    "        if station in line1_stations:\n",
    "            df.loc[(df['Station'] == station) & df['Bound'].isna(), 'Bound'] = 'S'\n",
    "        else:\n",
    "            df.loc[(df['Station'] == station) & df['Bound'].isna(), 'Bound'] = 'W'\n",
    "    else:\n",
    "        df.loc[(df['Station'] == station) & df['Bound'].isna(), 'Bound'] = mode[0]\n"
   ]
  },
  {
   "cell_type": "code",
   "execution_count": 47,
   "id": "7c8fad4f",
   "metadata": {},
   "outputs": [
    {
     "name": "stdout",
     "output_type": "stream",
     "text": [
      "No. of null values in Bound Column after cleaning: 0\n"
     ]
    }
   ],
   "source": [
    "print(f\"No. of null values in Bound Column after cleaning: {df['Bound'].isnull().sum()}\")"
   ]
  },
  {
   "cell_type": "markdown",
   "id": "f7898e26",
   "metadata": {},
   "source": [
    "## Independent Feature: _Vehicle_"
   ]
  },
  {
   "cell_type": "code",
   "execution_count": 48,
   "id": "1dcfd8a4",
   "metadata": {},
   "outputs": [
    {
     "name": "stdout",
     "output_type": "stream",
     "text": [
      "No. of records having 0 as value: 7894\n"
     ]
    }
   ],
   "source": [
    "print(f\"No. of records having 0 as value: {len(df[df['Vehicle'] == 0])}\")"
   ]
  },
  {
   "cell_type": "markdown",
   "id": "d972a52a",
   "metadata": {},
   "source": [
    "<p style=\"font-size: 17px; letter-spacing:1px; font-family: 'Charter', Times, serif;\">\n",
    "    There are many records where vehicle are not mentioned and also, there's no way to determine which vehicle is used.<br>\n",
    "    So, we will drop this Vehicle column.\n",
    "</p>"
   ]
  },
  {
   "cell_type": "code",
   "execution_count": 49,
   "id": "4acb7fd3",
   "metadata": {},
   "outputs": [],
   "source": [
    "df.drop(columns=['Vehicle'], inplace=True)"
   ]
  },
  {
   "cell_type": "markdown",
   "id": "c5c07244",
   "metadata": {},
   "source": [
    "### Checking of any null values in any feature"
   ]
  },
  {
   "cell_type": "code",
   "execution_count": 50,
   "id": "78b3433e",
   "metadata": {},
   "outputs": [
    {
     "data": {
      "text/plain": [
       "Time         0\n",
       "Day          0\n",
       "Station      0\n",
       "Code         0\n",
       "Min Delay    0\n",
       "Min Gap      0\n",
       "Bound        0\n",
       "Line         0\n",
       "Month        0\n",
       "dtype: int64"
      ]
     },
     "execution_count": 50,
     "metadata": {},
     "output_type": "execute_result"
    }
   ],
   "source": [
    "df.isnull().sum()"
   ]
  },
  {
   "cell_type": "markdown",
   "id": "5f3781a0",
   "metadata": {},
   "source": [
    "<p style=\"font-size: 17px; letter-spacing:1px; font-family: 'Charter', Times, serif;\">\n",
    "    We don't have any features with null values. So, let's move on to Exploratory Data Analysis.\n",
    "</p>"
   ]
  },
  {
   "cell_type": "code",
   "execution_count": 51,
   "id": "67c70400",
   "metadata": {},
   "outputs": [
    {
     "data": {
      "text/html": [
       "<div>\n",
       "<style scoped>\n",
       "    .dataframe tbody tr th:only-of-type {\n",
       "        vertical-align: middle;\n",
       "    }\n",
       "\n",
       "    .dataframe tbody tr th {\n",
       "        vertical-align: top;\n",
       "    }\n",
       "\n",
       "    .dataframe thead th {\n",
       "        text-align: right;\n",
       "    }\n",
       "</style>\n",
       "<table border=\"1\" class=\"dataframe\">\n",
       "  <thead>\n",
       "    <tr style=\"text-align: right;\">\n",
       "      <th></th>\n",
       "      <th>Time</th>\n",
       "      <th>Day</th>\n",
       "      <th>Station</th>\n",
       "      <th>Code</th>\n",
       "      <th>Min Delay</th>\n",
       "      <th>Min Gap</th>\n",
       "      <th>Bound</th>\n",
       "      <th>Line</th>\n",
       "      <th>Month</th>\n",
       "    </tr>\n",
       "  </thead>\n",
       "  <tbody>\n",
       "    <tr>\n",
       "      <th>0</th>\n",
       "      <td>night</td>\n",
       "      <td>Sunday</td>\n",
       "      <td>MUSEUM</td>\n",
       "      <td>MUPAA</td>\n",
       "      <td>3</td>\n",
       "      <td>9</td>\n",
       "      <td>S</td>\n",
       "      <td>YU</td>\n",
       "      <td>1</td>\n",
       "    </tr>\n",
       "    <tr>\n",
       "      <th>1</th>\n",
       "      <td>night</td>\n",
       "      <td>Sunday</td>\n",
       "      <td>KIPLING</td>\n",
       "      <td>MUIS</td>\n",
       "      <td>0</td>\n",
       "      <td>0</td>\n",
       "      <td>E</td>\n",
       "      <td>BD</td>\n",
       "      <td>1</td>\n",
       "    </tr>\n",
       "    <tr>\n",
       "      <th>2</th>\n",
       "      <td>night</td>\n",
       "      <td>Sunday</td>\n",
       "      <td>WARDEN</td>\n",
       "      <td>SUO</td>\n",
       "      <td>0</td>\n",
       "      <td>0</td>\n",
       "      <td>W</td>\n",
       "      <td>BD</td>\n",
       "      <td>1</td>\n",
       "    </tr>\n",
       "    <tr>\n",
       "      <th>3</th>\n",
       "      <td>night</td>\n",
       "      <td>Sunday</td>\n",
       "      <td>KEELE</td>\n",
       "      <td>MUIS</td>\n",
       "      <td>0</td>\n",
       "      <td>0</td>\n",
       "      <td>W</td>\n",
       "      <td>BD</td>\n",
       "      <td>1</td>\n",
       "    </tr>\n",
       "    <tr>\n",
       "      <th>4</th>\n",
       "      <td>morning</td>\n",
       "      <td>Sunday</td>\n",
       "      <td>BATHURST</td>\n",
       "      <td>MUIS</td>\n",
       "      <td>0</td>\n",
       "      <td>0</td>\n",
       "      <td>W</td>\n",
       "      <td>BD</td>\n",
       "      <td>1</td>\n",
       "    </tr>\n",
       "  </tbody>\n",
       "</table>\n",
       "</div>"
      ],
      "text/plain": [
       "      Time     Day   Station   Code  Min Delay  Min Gap Bound Line  Month\n",
       "0    night  Sunday    MUSEUM  MUPAA          3        9     S   YU      1\n",
       "1    night  Sunday   KIPLING   MUIS          0        0     E   BD      1\n",
       "2    night  Sunday    WARDEN    SUO          0        0     W   BD      1\n",
       "3    night  Sunday     KEELE   MUIS          0        0     W   BD      1\n",
       "4  morning  Sunday  BATHURST   MUIS          0        0     W   BD      1"
      ]
     },
     "execution_count": 51,
     "metadata": {},
     "output_type": "execute_result"
    }
   ],
   "source": [
    "df.head()"
   ]
  },
  {
   "cell_type": "markdown",
   "id": "98837a1d",
   "metadata": {},
   "source": [
    "<br><br>"
   ]
  },
  {
   "cell_type": "code",
   "execution_count": 52,
   "id": "b22a9563",
   "metadata": {},
   "outputs": [],
   "source": [
    "df1 = df.copy()"
   ]
  },
  {
   "cell_type": "markdown",
   "id": "5f3faba5",
   "metadata": {},
   "source": [
    "# Continous Variable Encodings"
   ]
  },
  {
   "cell_type": "markdown",
   "id": "d898d5a7",
   "metadata": {},
   "source": [
    "### _Month_ Feature"
   ]
  },
  {
   "cell_type": "markdown",
   "id": "c6a8a8f2",
   "metadata": {},
   "source": [
    "<p style=\"font-size: 17px; letter-spacing:1px; font-family: 'Charter', Times, serif;\">\n",
    "    Month column as values 1 to 12 but it is not correctly indicating the importance of the month feature.\n",
    "    Because 12 has more weightage than 1 so, it regression model will wrongly interprete the months.\n",
    "</p>\n",
    "<p style=\"font-size: 17px; letter-spacing:1px; font-family: 'Charter', Times, serif;\">To Resolve this issue we will use <code>Cyclical Encoding</code> technique for representing a cyclical or periodic feature such as Year, Month, etc. </p>\n",
    "<br>\n",
    "\n",
    "<p style=\"font-size: 17px; letter-spacing:1px; font-family: 'Charter', Times, serif;\">\n",
    "    <b>Cyclical Encoding:</b>\n",
    "        <p style=\"font-size: 15px; letter-spacing:1px; font-family: 'Charter', Times, serif;\">\n",
    "1. <b>Sinusoidal Transformation:</b> Each month (or any cyclical variable) is transformed into two continuous variables using <br><code>sine</code> and <code>cosine</code> transformations.</p>\n",
    "\n",
    "<p style=\"font-size: 15px; letter-spacing:1px; font-family: 'Charter', Times, serif;\">\n",
    "    2. <b>Representation of Cyclical Nature:</b> The sine and cosine transformations allow the linear model to capture the cyclical nature of the data, such as the periodicity of months in a year.\n",
    "        </p>\n",
    "</p>\n",
    "\n",
    "<p style=\"font-size: 17px; letter-spacing:1px; font-family: 'Charter', Times, serif;\">\n",
    "This encoding ensures that January and December, for example, are closer together in the feature space compared to January and February. It avoids creating spurious relationships between distant months (e.g., treating January and December as very different when in reality they are adjacent in the calendar).\n",
    "\n",
    "</p>"
   ]
  },
  {
   "cell_type": "code",
   "execution_count": 53,
   "id": "9809ab74",
   "metadata": {},
   "outputs": [],
   "source": [
    "# Cyclical Encoding\n",
    "df['Month_sin'] = np.sin(2 * np.pi * df['Month'] / 12)\n",
    "df['Month_cos'] = np.cos(2 * np.pi * df['Month'] / 12)\n",
    "\n",
    "# Dropping the original 'Month' column\n",
    "df.drop(columns=['Month'], inplace=True)"
   ]
  },
  {
   "cell_type": "code",
   "execution_count": 54,
   "id": "ae1a7485",
   "metadata": {},
   "outputs": [
    {
     "data": {
      "text/html": [
       "<div>\n",
       "<style scoped>\n",
       "    .dataframe tbody tr th:only-of-type {\n",
       "        vertical-align: middle;\n",
       "    }\n",
       "\n",
       "    .dataframe tbody tr th {\n",
       "        vertical-align: top;\n",
       "    }\n",
       "\n",
       "    .dataframe thead th {\n",
       "        text-align: right;\n",
       "    }\n",
       "</style>\n",
       "<table border=\"1\" class=\"dataframe\">\n",
       "  <thead>\n",
       "    <tr style=\"text-align: right;\">\n",
       "      <th></th>\n",
       "      <th>Time</th>\n",
       "      <th>Day</th>\n",
       "      <th>Station</th>\n",
       "      <th>Code</th>\n",
       "      <th>Min Delay</th>\n",
       "      <th>Min Gap</th>\n",
       "      <th>Bound</th>\n",
       "      <th>Line</th>\n",
       "      <th>Month_sin</th>\n",
       "      <th>Month_cos</th>\n",
       "    </tr>\n",
       "  </thead>\n",
       "  <tbody>\n",
       "    <tr>\n",
       "      <th>0</th>\n",
       "      <td>night</td>\n",
       "      <td>Sunday</td>\n",
       "      <td>MUSEUM</td>\n",
       "      <td>MUPAA</td>\n",
       "      <td>3</td>\n",
       "      <td>9</td>\n",
       "      <td>S</td>\n",
       "      <td>YU</td>\n",
       "      <td>0.5</td>\n",
       "      <td>0.866025</td>\n",
       "    </tr>\n",
       "    <tr>\n",
       "      <th>1</th>\n",
       "      <td>night</td>\n",
       "      <td>Sunday</td>\n",
       "      <td>KIPLING</td>\n",
       "      <td>MUIS</td>\n",
       "      <td>0</td>\n",
       "      <td>0</td>\n",
       "      <td>E</td>\n",
       "      <td>BD</td>\n",
       "      <td>0.5</td>\n",
       "      <td>0.866025</td>\n",
       "    </tr>\n",
       "    <tr>\n",
       "      <th>2</th>\n",
       "      <td>night</td>\n",
       "      <td>Sunday</td>\n",
       "      <td>WARDEN</td>\n",
       "      <td>SUO</td>\n",
       "      <td>0</td>\n",
       "      <td>0</td>\n",
       "      <td>W</td>\n",
       "      <td>BD</td>\n",
       "      <td>0.5</td>\n",
       "      <td>0.866025</td>\n",
       "    </tr>\n",
       "    <tr>\n",
       "      <th>3</th>\n",
       "      <td>night</td>\n",
       "      <td>Sunday</td>\n",
       "      <td>KEELE</td>\n",
       "      <td>MUIS</td>\n",
       "      <td>0</td>\n",
       "      <td>0</td>\n",
       "      <td>W</td>\n",
       "      <td>BD</td>\n",
       "      <td>0.5</td>\n",
       "      <td>0.866025</td>\n",
       "    </tr>\n",
       "    <tr>\n",
       "      <th>4</th>\n",
       "      <td>morning</td>\n",
       "      <td>Sunday</td>\n",
       "      <td>BATHURST</td>\n",
       "      <td>MUIS</td>\n",
       "      <td>0</td>\n",
       "      <td>0</td>\n",
       "      <td>W</td>\n",
       "      <td>BD</td>\n",
       "      <td>0.5</td>\n",
       "      <td>0.866025</td>\n",
       "    </tr>\n",
       "  </tbody>\n",
       "</table>\n",
       "</div>"
      ],
      "text/plain": [
       "      Time     Day   Station   Code  Min Delay  Min Gap Bound Line  Month_sin  \\\n",
       "0    night  Sunday    MUSEUM  MUPAA          3        9     S   YU        0.5   \n",
       "1    night  Sunday   KIPLING   MUIS          0        0     E   BD        0.5   \n",
       "2    night  Sunday    WARDEN    SUO          0        0     W   BD        0.5   \n",
       "3    night  Sunday     KEELE   MUIS          0        0     W   BD        0.5   \n",
       "4  morning  Sunday  BATHURST   MUIS          0        0     W   BD        0.5   \n",
       "\n",
       "   Month_cos  \n",
       "0   0.866025  \n",
       "1   0.866025  \n",
       "2   0.866025  \n",
       "3   0.866025  \n",
       "4   0.866025  "
      ]
     },
     "execution_count": 54,
     "metadata": {},
     "output_type": "execute_result"
    }
   ],
   "source": [
    "df.head()"
   ]
  },
  {
   "cell_type": "markdown",
   "id": "86919196",
   "metadata": {},
   "source": [
    "<br>"
   ]
  },
  {
   "cell_type": "markdown",
   "id": "c0f6bd91",
   "metadata": {},
   "source": [
    "### _Time_ Feature"
   ]
  },
  {
   "cell_type": "markdown",
   "id": "e5508a4a",
   "metadata": {},
   "source": [
    "<p style=\"font-size: 17px; letter-spacing:1px; font-family: 'Charter', Times, serif;\">\n",
    "We have the divisions of the day let's see at what time of the day the maximum delay occurs?\n",
    "</p><br>"
   ]
  },
  {
   "cell_type": "code",
   "execution_count": 55,
   "id": "4366d636",
   "metadata": {},
   "outputs": [
    {
     "data": {
      "text/plain": [
       "<Axes: xlabel='Time', ylabel='Count'>"
      ]
     },
     "execution_count": 55,
     "metadata": {},
     "output_type": "execute_result"
    },
    {
     "data": {
      "image/png": "[encoded data removed]",
      "text/plain": [
       "<Figure size 640x480 with 1 Axes>"
      ]
     },
     "metadata": {},
     "output_type": "display_data"
    }
   ],
   "source": [
    "# Plotting a histogram to get the max delay occurs at a particular time of the day.\n",
    "sns.histplot(df, x='Time')"
   ]
  },
  {
   "cell_type": "markdown",
   "id": "c5b32b0d",
   "metadata": {},
   "source": [
    "<p style=\"font-size: 17px; letter-spacing:1px; font-family: 'Charter', Times, serif;\">\n",
    "Most delay occurs in the evening followed by morning and afternoon, let's convert it to some categorical value, for this we will use <code>Ordinal Encoding</code>.\n",
    "</p><br>\n",
    "\n",
    "<p style=\"font-size: 17px; letter-spacing:1px; font-family: 'Charter', Times, serif;\">\n",
    "<b>Ordinal Encoding:</b><br><br>\n",
    "If the divisions of the day have some order (e.g., \"Evening\" &lt \"Night\" &lt \"Afternoon\" &lt \"Morning\"), you can use ordinal encoding to convert them into numerical values. This encoding preserves the ordinal relationship between the categories. However, be cautious as ordinal encoding may introduce a linear relationship between the divisions of the day, which may not reflect the actual relationship.</p>"
   ]
  },
  {
   "cell_type": "code",
   "execution_count": 56,
   "id": "4c39825f",
   "metadata": {},
   "outputs": [],
   "source": [
    "# Ordinal Encoding\n",
    "ordinalEncoder = OrdinalEncoder(categories=[['morning', 'afternoon', 'night', 'evening']])\n",
    "encoded_data = ordinalEncoder.fit_transform(df[['Time']])\n",
    "df['Time'] = encoded_data"
   ]
  },
  {
   "cell_type": "code",
   "execution_count": 57,
   "id": "fe24d387",
   "metadata": {},
   "outputs": [
    {
     "data": {
      "text/html": [
       "<div>\n",
       "<style scoped>\n",
       "    .dataframe tbody tr th:only-of-type {\n",
       "        vertical-align: middle;\n",
       "    }\n",
       "\n",
       "    .dataframe tbody tr th {\n",
       "        vertical-align: top;\n",
       "    }\n",
       "\n",
       "    .dataframe thead th {\n",
       "        text-align: right;\n",
       "    }\n",
       "</style>\n",
       "<table border=\"1\" class=\"dataframe\">\n",
       "  <thead>\n",
       "    <tr style=\"text-align: right;\">\n",
       "      <th></th>\n",
       "      <th>Time</th>\n",
       "      <th>Day</th>\n",
       "      <th>Station</th>\n",
       "      <th>Code</th>\n",
       "      <th>Min Delay</th>\n",
       "      <th>Min Gap</th>\n",
       "      <th>Bound</th>\n",
       "      <th>Line</th>\n",
       "      <th>Month_sin</th>\n",
       "      <th>Month_cos</th>\n",
       "    </tr>\n",
       "  </thead>\n",
       "  <tbody>\n",
       "    <tr>\n",
       "      <th>0</th>\n",
       "      <td>2.0</td>\n",
       "      <td>Sunday</td>\n",
       "      <td>MUSEUM</td>\n",
       "      <td>MUPAA</td>\n",
       "      <td>3</td>\n",
       "      <td>9</td>\n",
       "      <td>S</td>\n",
       "      <td>YU</td>\n",
       "      <td>0.5</td>\n",
       "      <td>0.866025</td>\n",
       "    </tr>\n",
       "    <tr>\n",
       "      <th>1</th>\n",
       "      <td>2.0</td>\n",
       "      <td>Sunday</td>\n",
       "      <td>KIPLING</td>\n",
       "      <td>MUIS</td>\n",
       "      <td>0</td>\n",
       "      <td>0</td>\n",
       "      <td>E</td>\n",
       "      <td>BD</td>\n",
       "      <td>0.5</td>\n",
       "      <td>0.866025</td>\n",
       "    </tr>\n",
       "    <tr>\n",
       "      <th>2</th>\n",
       "      <td>2.0</td>\n",
       "      <td>Sunday</td>\n",
       "      <td>WARDEN</td>\n",
       "      <td>SUO</td>\n",
       "      <td>0</td>\n",
       "      <td>0</td>\n",
       "      <td>W</td>\n",
       "      <td>BD</td>\n",
       "      <td>0.5</td>\n",
       "      <td>0.866025</td>\n",
       "    </tr>\n",
       "    <tr>\n",
       "      <th>3</th>\n",
       "      <td>2.0</td>\n",
       "      <td>Sunday</td>\n",
       "      <td>KEELE</td>\n",
       "      <td>MUIS</td>\n",
       "      <td>0</td>\n",
       "      <td>0</td>\n",
       "      <td>W</td>\n",
       "      <td>BD</td>\n",
       "      <td>0.5</td>\n",
       "      <td>0.866025</td>\n",
       "    </tr>\n",
       "    <tr>\n",
       "      <th>4</th>\n",
       "      <td>0.0</td>\n",
       "      <td>Sunday</td>\n",
       "      <td>BATHURST</td>\n",
       "      <td>MUIS</td>\n",
       "      <td>0</td>\n",
       "      <td>0</td>\n",
       "      <td>W</td>\n",
       "      <td>BD</td>\n",
       "      <td>0.5</td>\n",
       "      <td>0.866025</td>\n",
       "    </tr>\n",
       "  </tbody>\n",
       "</table>\n",
       "</div>"
      ],
      "text/plain": [
       "   Time     Day   Station   Code  Min Delay  Min Gap Bound Line  Month_sin  \\\n",
       "0   2.0  Sunday    MUSEUM  MUPAA          3        9     S   YU        0.5   \n",
       "1   2.0  Sunday   KIPLING   MUIS          0        0     E   BD        0.5   \n",
       "2   2.0  Sunday    WARDEN    SUO          0        0     W   BD        0.5   \n",
       "3   2.0  Sunday     KEELE   MUIS          0        0     W   BD        0.5   \n",
       "4   0.0  Sunday  BATHURST   MUIS          0        0     W   BD        0.5   \n",
       "\n",
       "   Month_cos  \n",
       "0   0.866025  \n",
       "1   0.866025  \n",
       "2   0.866025  \n",
       "3   0.866025  \n",
       "4   0.866025  "
      ]
     },
     "execution_count": 57,
     "metadata": {},
     "output_type": "execute_result"
    }
   ],
   "source": [
    "df.head()"
   ]
  },
  {
   "cell_type": "markdown",
   "id": "376df59c",
   "metadata": {},
   "source": [
    "<br>"
   ]
  },
  {
   "cell_type": "markdown",
   "id": "edf58d4d",
   "metadata": {},
   "source": [
    "### _Day_ Feature"
   ]
  },
  {
   "cell_type": "markdown",
   "id": "79770157",
   "metadata": {},
   "source": [
    "<p style=\"font-size: 17px; letter-spacing:1px; font-family: 'Charter', Times, serif;\">\n",
    "Day has all 7 days of the week and there's no null values. Also, days of the week follow a cyclical or periodic nature. So, we will again use the <code>Cyclical Encoding</code> to convert days into some continous value.  </p>"
   ]
  },
  {
   "cell_type": "code",
   "execution_count": 58,
   "id": "d1c10cff",
   "metadata": {},
   "outputs": [
    {
     "data": {
      "text/html": [
       "<div>\n",
       "<style scoped>\n",
       "    .dataframe tbody tr th:only-of-type {\n",
       "        vertical-align: middle;\n",
       "    }\n",
       "\n",
       "    .dataframe tbody tr th {\n",
       "        vertical-align: top;\n",
       "    }\n",
       "\n",
       "    .dataframe thead th {\n",
       "        text-align: right;\n",
       "    }\n",
       "</style>\n",
       "<table border=\"1\" class=\"dataframe\">\n",
       "  <thead>\n",
       "    <tr style=\"text-align: right;\">\n",
       "      <th></th>\n",
       "      <th>Time</th>\n",
       "      <th>Station</th>\n",
       "      <th>Code</th>\n",
       "      <th>Min Delay</th>\n",
       "      <th>Min Gap</th>\n",
       "      <th>Bound</th>\n",
       "      <th>Line</th>\n",
       "      <th>Month_sin</th>\n",
       "      <th>Month_cos</th>\n",
       "      <th>Day_sin</th>\n",
       "      <th>Day_cos</th>\n",
       "    </tr>\n",
       "  </thead>\n",
       "  <tbody>\n",
       "    <tr>\n",
       "      <th>0</th>\n",
       "      <td>2.0</td>\n",
       "      <td>MUSEUM</td>\n",
       "      <td>MUPAA</td>\n",
       "      <td>3</td>\n",
       "      <td>9</td>\n",
       "      <td>S</td>\n",
       "      <td>YU</td>\n",
       "      <td>0.5</td>\n",
       "      <td>0.866025</td>\n",
       "      <td>0.000000</td>\n",
       "      <td>1.000000</td>\n",
       "    </tr>\n",
       "    <tr>\n",
       "      <th>1</th>\n",
       "      <td>2.0</td>\n",
       "      <td>KIPLING</td>\n",
       "      <td>MUIS</td>\n",
       "      <td>0</td>\n",
       "      <td>0</td>\n",
       "      <td>E</td>\n",
       "      <td>BD</td>\n",
       "      <td>0.5</td>\n",
       "      <td>0.866025</td>\n",
       "      <td>0.781831</td>\n",
       "      <td>0.623490</td>\n",
       "    </tr>\n",
       "    <tr>\n",
       "      <th>2</th>\n",
       "      <td>2.0</td>\n",
       "      <td>WARDEN</td>\n",
       "      <td>SUO</td>\n",
       "      <td>0</td>\n",
       "      <td>0</td>\n",
       "      <td>W</td>\n",
       "      <td>BD</td>\n",
       "      <td>0.5</td>\n",
       "      <td>0.866025</td>\n",
       "      <td>0.974928</td>\n",
       "      <td>-0.222521</td>\n",
       "    </tr>\n",
       "    <tr>\n",
       "      <th>3</th>\n",
       "      <td>2.0</td>\n",
       "      <td>KEELE</td>\n",
       "      <td>MUIS</td>\n",
       "      <td>0</td>\n",
       "      <td>0</td>\n",
       "      <td>W</td>\n",
       "      <td>BD</td>\n",
       "      <td>0.5</td>\n",
       "      <td>0.866025</td>\n",
       "      <td>0.433884</td>\n",
       "      <td>-0.900969</td>\n",
       "    </tr>\n",
       "    <tr>\n",
       "      <th>4</th>\n",
       "      <td>0.0</td>\n",
       "      <td>BATHURST</td>\n",
       "      <td>MUIS</td>\n",
       "      <td>0</td>\n",
       "      <td>0</td>\n",
       "      <td>W</td>\n",
       "      <td>BD</td>\n",
       "      <td>0.5</td>\n",
       "      <td>0.866025</td>\n",
       "      <td>-0.433884</td>\n",
       "      <td>-0.900969</td>\n",
       "    </tr>\n",
       "  </tbody>\n",
       "</table>\n",
       "</div>"
      ],
      "text/plain": [
       "   Time   Station   Code  Min Delay  Min Gap Bound Line  Month_sin  Month_cos  \\\n",
       "0   2.0    MUSEUM  MUPAA          3        9     S   YU        0.5   0.866025   \n",
       "1   2.0   KIPLING   MUIS          0        0     E   BD        0.5   0.866025   \n",
       "2   2.0    WARDEN    SUO          0        0     W   BD        0.5   0.866025   \n",
       "3   2.0     KEELE   MUIS          0        0     W   BD        0.5   0.866025   \n",
       "4   0.0  BATHURST   MUIS          0        0     W   BD        0.5   0.866025   \n",
       "\n",
       "    Day_sin   Day_cos  \n",
       "0  0.000000  1.000000  \n",
       "1  0.781831  0.623490  \n",
       "2  0.974928 -0.222521  \n",
       "3  0.433884 -0.900969  \n",
       "4 -0.433884 -0.900969  "
      ]
     },
     "execution_count": 58,
     "metadata": {},
     "output_type": "execute_result"
    }
   ],
   "source": [
    "# Cyclical Encoding\n",
    "df['Day_sin'] = np.sin(2 * np.pi * df.index / 7)\n",
    "df['Day_cos'] = np.cos(2 * np.pi * df.index / 7)\n",
    "\n",
    "# Dropping the Day column\n",
    "df.drop(columns=['Day'], inplace=True)\n",
    "df.head()"
   ]
  },
  {
   "cell_type": "markdown",
   "id": "ebde51bc",
   "metadata": {},
   "source": [
    "<br>"
   ]
  },
  {
   "cell_type": "markdown",
   "id": "27cb9f1c",
   "metadata": {},
   "source": [
    "### _Station_ Feature"
   ]
  },
  {
   "cell_type": "markdown",
   "id": "c15c567c",
   "metadata": {},
   "source": [
    "<p style=\"font-size: 17px; letter-spacing:1px; font-family: 'Charter', Times, serif;\">\n",
    "Here there are 70 subway station, so to convert large number of categories to continous values, we will use Target Encoding to convert categorical data to continous values\n",
    "</p>\n",
    "\n",
    "<p style=\"font-size: 17px; letter-spacing:1px; font-family: 'Charter', Times, serif;\">\n",
    "    <b>Target Encoding:</b><br>\n",
    "    This technique replaces each category with the mean of the target variable for that category.\n",
    "</p>\n",
    "<p style=\"font-size: 17px; letter-spacing:1px; font-family: 'Charter', Times, serif;\">\n",
    "    Let's implement the Target Encoding for our Station Feature\n",
    "</p>"
   ]
  },
  {
   "cell_type": "code",
   "execution_count": 59,
   "id": "13b08cf3",
   "metadata": {},
   "outputs": [],
   "source": [
    "# Creating the Target Encoder object\n",
    "target_encoder = TargetEncoder()"
   ]
  },
  {
   "cell_type": "code",
   "execution_count": 60,
   "id": "1cb69c05",
   "metadata": {},
   "outputs": [],
   "source": [
    "# Transforming the Station column\n",
    "df['Station'] = target_encoder.fit_transform(df['Station'], df['Min Delay'])"
   ]
  },
  {
   "cell_type": "code",
   "execution_count": 61,
   "id": "4b8dd902",
   "metadata": {},
   "outputs": [
    {
     "data": {
      "text/html": [
       "<div>\n",
       "<style scoped>\n",
       "    .dataframe tbody tr th:only-of-type {\n",
       "        vertical-align: middle;\n",
       "    }\n",
       "\n",
       "    .dataframe tbody tr th {\n",
       "        vertical-align: top;\n",
       "    }\n",
       "\n",
       "    .dataframe thead th {\n",
       "        text-align: right;\n",
       "    }\n",
       "</style>\n",
       "<table border=\"1\" class=\"dataframe\">\n",
       "  <thead>\n",
       "    <tr style=\"text-align: right;\">\n",
       "      <th></th>\n",
       "      <th>Time</th>\n",
       "      <th>Station</th>\n",
       "      <th>Code</th>\n",
       "      <th>Min Delay</th>\n",
       "      <th>Min Gap</th>\n",
       "      <th>Bound</th>\n",
       "      <th>Line</th>\n",
       "      <th>Month_sin</th>\n",
       "      <th>Month_cos</th>\n",
       "      <th>Day_sin</th>\n",
       "      <th>Day_cos</th>\n",
       "    </tr>\n",
       "  </thead>\n",
       "  <tbody>\n",
       "    <tr>\n",
       "      <th>0</th>\n",
       "      <td>2.0</td>\n",
       "      <td>3.786203</td>\n",
       "      <td>MUPAA</td>\n",
       "      <td>3</td>\n",
       "      <td>9</td>\n",
       "      <td>S</td>\n",
       "      <td>YU</td>\n",
       "      <td>0.5</td>\n",
       "      <td>0.866025</td>\n",
       "      <td>0.000000</td>\n",
       "      <td>1.000000</td>\n",
       "    </tr>\n",
       "    <tr>\n",
       "      <th>1</th>\n",
       "      <td>2.0</td>\n",
       "      <td>2.417790</td>\n",
       "      <td>MUIS</td>\n",
       "      <td>0</td>\n",
       "      <td>0</td>\n",
       "      <td>E</td>\n",
       "      <td>BD</td>\n",
       "      <td>0.5</td>\n",
       "      <td>0.866025</td>\n",
       "      <td>0.781831</td>\n",
       "      <td>0.623490</td>\n",
       "    </tr>\n",
       "    <tr>\n",
       "      <th>2</th>\n",
       "      <td>2.0</td>\n",
       "      <td>3.710997</td>\n",
       "      <td>SUO</td>\n",
       "      <td>0</td>\n",
       "      <td>0</td>\n",
       "      <td>W</td>\n",
       "      <td>BD</td>\n",
       "      <td>0.5</td>\n",
       "      <td>0.866025</td>\n",
       "      <td>0.974928</td>\n",
       "      <td>-0.222521</td>\n",
       "    </tr>\n",
       "    <tr>\n",
       "      <th>3</th>\n",
       "      <td>2.0</td>\n",
       "      <td>3.099432</td>\n",
       "      <td>MUIS</td>\n",
       "      <td>0</td>\n",
       "      <td>0</td>\n",
       "      <td>W</td>\n",
       "      <td>BD</td>\n",
       "      <td>0.5</td>\n",
       "      <td>0.866025</td>\n",
       "      <td>0.433884</td>\n",
       "      <td>-0.900969</td>\n",
       "    </tr>\n",
       "    <tr>\n",
       "      <th>4</th>\n",
       "      <td>0.0</td>\n",
       "      <td>1.722071</td>\n",
       "      <td>MUIS</td>\n",
       "      <td>0</td>\n",
       "      <td>0</td>\n",
       "      <td>W</td>\n",
       "      <td>BD</td>\n",
       "      <td>0.5</td>\n",
       "      <td>0.866025</td>\n",
       "      <td>-0.433884</td>\n",
       "      <td>-0.900969</td>\n",
       "    </tr>\n",
       "  </tbody>\n",
       "</table>\n",
       "</div>"
      ],
      "text/plain": [
       "   Time   Station   Code  Min Delay  Min Gap Bound Line  Month_sin  Month_cos  \\\n",
       "0   2.0  3.786203  MUPAA          3        9     S   YU        0.5   0.866025   \n",
       "1   2.0  2.417790   MUIS          0        0     E   BD        0.5   0.866025   \n",
       "2   2.0  3.710997    SUO          0        0     W   BD        0.5   0.866025   \n",
       "3   2.0  3.099432   MUIS          0        0     W   BD        0.5   0.866025   \n",
       "4   0.0  1.722071   MUIS          0        0     W   BD        0.5   0.866025   \n",
       "\n",
       "    Day_sin   Day_cos  \n",
       "0  0.000000  1.000000  \n",
       "1  0.781831  0.623490  \n",
       "2  0.974928 -0.222521  \n",
       "3  0.433884 -0.900969  \n",
       "4 -0.433884 -0.900969  "
      ]
     },
     "execution_count": 61,
     "metadata": {},
     "output_type": "execute_result"
    }
   ],
   "source": [
    "df.head()"
   ]
  },
  {
   "cell_type": "markdown",
   "id": "6a62418a",
   "metadata": {},
   "source": [
    "### _Code_ Feature\n",
    "\n",
    "<p style=\"font-size: 17px; letter-spacing:1px; font-family: 'Charter', Times, serif;\">\n",
    "    Encoding Code column using Target Encoding\n",
    "</p>"
   ]
  },
  {
   "cell_type": "code",
   "execution_count": 62,
   "id": "b43c71a7",
   "metadata": {},
   "outputs": [
    {
     "data": {
      "text/html": [
       "<div>\n",
       "<style scoped>\n",
       "    .dataframe tbody tr th:only-of-type {\n",
       "        vertical-align: middle;\n",
       "    }\n",
       "\n",
       "    .dataframe tbody tr th {\n",
       "        vertical-align: top;\n",
       "    }\n",
       "\n",
       "    .dataframe thead th {\n",
       "        text-align: right;\n",
       "    }\n",
       "</style>\n",
       "<table border=\"1\" class=\"dataframe\">\n",
       "  <thead>\n",
       "    <tr style=\"text-align: right;\">\n",
       "      <th></th>\n",
       "      <th>Time</th>\n",
       "      <th>Station</th>\n",
       "      <th>Code</th>\n",
       "      <th>Min Delay</th>\n",
       "      <th>Min Gap</th>\n",
       "      <th>Bound</th>\n",
       "      <th>Line</th>\n",
       "      <th>Month_sin</th>\n",
       "      <th>Month_cos</th>\n",
       "      <th>Day_sin</th>\n",
       "      <th>Day_cos</th>\n",
       "    </tr>\n",
       "  </thead>\n",
       "  <tbody>\n",
       "    <tr>\n",
       "      <th>0</th>\n",
       "      <td>2.0</td>\n",
       "      <td>3.786203</td>\n",
       "      <td>2.213600</td>\n",
       "      <td>3</td>\n",
       "      <td>9</td>\n",
       "      <td>S</td>\n",
       "      <td>YU</td>\n",
       "      <td>0.5</td>\n",
       "      <td>0.866025</td>\n",
       "      <td>0.000000</td>\n",
       "      <td>1.000000</td>\n",
       "    </tr>\n",
       "    <tr>\n",
       "      <th>1</th>\n",
       "      <td>2.0</td>\n",
       "      <td>2.417790</td>\n",
       "      <td>0.080596</td>\n",
       "      <td>0</td>\n",
       "      <td>0</td>\n",
       "      <td>E</td>\n",
       "      <td>BD</td>\n",
       "      <td>0.5</td>\n",
       "      <td>0.866025</td>\n",
       "      <td>0.781831</td>\n",
       "      <td>0.623490</td>\n",
       "    </tr>\n",
       "    <tr>\n",
       "      <th>2</th>\n",
       "      <td>2.0</td>\n",
       "      <td>3.710997</td>\n",
       "      <td>1.992795</td>\n",
       "      <td>0</td>\n",
       "      <td>0</td>\n",
       "      <td>W</td>\n",
       "      <td>BD</td>\n",
       "      <td>0.5</td>\n",
       "      <td>0.866025</td>\n",
       "      <td>0.974928</td>\n",
       "      <td>-0.222521</td>\n",
       "    </tr>\n",
       "    <tr>\n",
       "      <th>3</th>\n",
       "      <td>2.0</td>\n",
       "      <td>3.099432</td>\n",
       "      <td>0.080596</td>\n",
       "      <td>0</td>\n",
       "      <td>0</td>\n",
       "      <td>W</td>\n",
       "      <td>BD</td>\n",
       "      <td>0.5</td>\n",
       "      <td>0.866025</td>\n",
       "      <td>0.433884</td>\n",
       "      <td>-0.900969</td>\n",
       "    </tr>\n",
       "    <tr>\n",
       "      <th>4</th>\n",
       "      <td>0.0</td>\n",
       "      <td>1.722071</td>\n",
       "      <td>0.080596</td>\n",
       "      <td>0</td>\n",
       "      <td>0</td>\n",
       "      <td>W</td>\n",
       "      <td>BD</td>\n",
       "      <td>0.5</td>\n",
       "      <td>0.866025</td>\n",
       "      <td>-0.433884</td>\n",
       "      <td>-0.900969</td>\n",
       "    </tr>\n",
       "  </tbody>\n",
       "</table>\n",
       "</div>"
      ],
      "text/plain": [
       "   Time   Station      Code  Min Delay  Min Gap Bound Line  Month_sin  \\\n",
       "0   2.0  3.786203  2.213600          3        9     S   YU        0.5   \n",
       "1   2.0  2.417790  0.080596          0        0     E   BD        0.5   \n",
       "2   2.0  3.710997  1.992795          0        0     W   BD        0.5   \n",
       "3   2.0  3.099432  0.080596          0        0     W   BD        0.5   \n",
       "4   0.0  1.722071  0.080596          0        0     W   BD        0.5   \n",
       "\n",
       "   Month_cos   Day_sin   Day_cos  \n",
       "0   0.866025  0.000000  1.000000  \n",
       "1   0.866025  0.781831  0.623490  \n",
       "2   0.866025  0.974928 -0.222521  \n",
       "3   0.866025  0.433884 -0.900969  \n",
       "4   0.866025 -0.433884 -0.900969  "
      ]
     },
     "execution_count": 62,
     "metadata": {},
     "output_type": "execute_result"
    }
   ],
   "source": [
    "df['Code'] = target_encoder.fit_transform(df['Code'], df['Min Delay'])\n",
    "df.head()"
   ]
  },
  {
   "cell_type": "markdown",
   "id": "d02c326a",
   "metadata": {},
   "source": [
    "### _Bound_ Feature\n",
    "\n",
    "<p style=\"font-size: 17px; letter-spacing:1px; font-family: 'Charter', Times, serif;\">\n",
    "    Encoding Code column using OneHot encoding\n",
    "</p>"
   ]
  },
  {
   "cell_type": "code",
   "execution_count": 63,
   "id": "33fadf8f",
   "metadata": {},
   "outputs": [
    {
     "data": {
      "text/html": [
       "<div>\n",
       "<style scoped>\n",
       "    .dataframe tbody tr th:only-of-type {\n",
       "        vertical-align: middle;\n",
       "    }\n",
       "\n",
       "    .dataframe tbody tr th {\n",
       "        vertical-align: top;\n",
       "    }\n",
       "\n",
       "    .dataframe thead th {\n",
       "        text-align: right;\n",
       "    }\n",
       "</style>\n",
       "<table border=\"1\" class=\"dataframe\">\n",
       "  <thead>\n",
       "    <tr style=\"text-align: right;\">\n",
       "      <th></th>\n",
       "      <th>Time</th>\n",
       "      <th>Station</th>\n",
       "      <th>Code</th>\n",
       "      <th>Min Delay</th>\n",
       "      <th>Min Gap</th>\n",
       "      <th>Line</th>\n",
       "      <th>Month_sin</th>\n",
       "      <th>Month_cos</th>\n",
       "      <th>Day_sin</th>\n",
       "      <th>Day_cos</th>\n",
       "      <th>Bound_E</th>\n",
       "      <th>Bound_N</th>\n",
       "      <th>Bound_S</th>\n",
       "      <th>Bound_W</th>\n",
       "    </tr>\n",
       "  </thead>\n",
       "  <tbody>\n",
       "    <tr>\n",
       "      <th>0</th>\n",
       "      <td>2.0</td>\n",
       "      <td>3.786203</td>\n",
       "      <td>2.213600</td>\n",
       "      <td>3</td>\n",
       "      <td>9</td>\n",
       "      <td>YU</td>\n",
       "      <td>0.5</td>\n",
       "      <td>0.866025</td>\n",
       "      <td>0.000000</td>\n",
       "      <td>1.000000</td>\n",
       "      <td>0.0</td>\n",
       "      <td>0.0</td>\n",
       "      <td>1.0</td>\n",
       "      <td>0.0</td>\n",
       "    </tr>\n",
       "    <tr>\n",
       "      <th>1</th>\n",
       "      <td>2.0</td>\n",
       "      <td>2.417790</td>\n",
       "      <td>0.080596</td>\n",
       "      <td>0</td>\n",
       "      <td>0</td>\n",
       "      <td>BD</td>\n",
       "      <td>0.5</td>\n",
       "      <td>0.866025</td>\n",
       "      <td>0.781831</td>\n",
       "      <td>0.623490</td>\n",
       "      <td>1.0</td>\n",
       "      <td>0.0</td>\n",
       "      <td>0.0</td>\n",
       "      <td>0.0</td>\n",
       "    </tr>\n",
       "    <tr>\n",
       "      <th>2</th>\n",
       "      <td>2.0</td>\n",
       "      <td>3.710997</td>\n",
       "      <td>1.992795</td>\n",
       "      <td>0</td>\n",
       "      <td>0</td>\n",
       "      <td>BD</td>\n",
       "      <td>0.5</td>\n",
       "      <td>0.866025</td>\n",
       "      <td>0.974928</td>\n",
       "      <td>-0.222521</td>\n",
       "      <td>0.0</td>\n",
       "      <td>0.0</td>\n",
       "      <td>0.0</td>\n",
       "      <td>1.0</td>\n",
       "    </tr>\n",
       "    <tr>\n",
       "      <th>3</th>\n",
       "      <td>2.0</td>\n",
       "      <td>3.099432</td>\n",
       "      <td>0.080596</td>\n",
       "      <td>0</td>\n",
       "      <td>0</td>\n",
       "      <td>BD</td>\n",
       "      <td>0.5</td>\n",
       "      <td>0.866025</td>\n",
       "      <td>0.433884</td>\n",
       "      <td>-0.900969</td>\n",
       "      <td>0.0</td>\n",
       "      <td>0.0</td>\n",
       "      <td>0.0</td>\n",
       "      <td>1.0</td>\n",
       "    </tr>\n",
       "    <tr>\n",
       "      <th>4</th>\n",
       "      <td>0.0</td>\n",
       "      <td>1.722071</td>\n",
       "      <td>0.080596</td>\n",
       "      <td>0</td>\n",
       "      <td>0</td>\n",
       "      <td>BD</td>\n",
       "      <td>0.5</td>\n",
       "      <td>0.866025</td>\n",
       "      <td>-0.433884</td>\n",
       "      <td>-0.900969</td>\n",
       "      <td>0.0</td>\n",
       "      <td>0.0</td>\n",
       "      <td>0.0</td>\n",
       "      <td>1.0</td>\n",
       "    </tr>\n",
       "  </tbody>\n",
       "</table>\n",
       "</div>"
      ],
      "text/plain": [
       "   Time   Station      Code  Min Delay  Min Gap Line  Month_sin  Month_cos  \\\n",
       "0   2.0  3.786203  2.213600          3        9   YU        0.5   0.866025   \n",
       "1   2.0  2.417790  0.080596          0        0   BD        0.5   0.866025   \n",
       "2   2.0  3.710997  1.992795          0        0   BD        0.5   0.866025   \n",
       "3   2.0  3.099432  0.080596          0        0   BD        0.5   0.866025   \n",
       "4   0.0  1.722071  0.080596          0        0   BD        0.5   0.866025   \n",
       "\n",
       "    Day_sin   Day_cos  Bound_E  Bound_N  Bound_S  Bound_W  \n",
       "0  0.000000  1.000000      0.0      0.0      1.0      0.0  \n",
       "1  0.781831  0.623490      1.0      0.0      0.0      0.0  \n",
       "2  0.974928 -0.222521      0.0      0.0      0.0      1.0  \n",
       "3  0.433884 -0.900969      0.0      0.0      0.0      1.0  \n",
       "4 -0.433884 -0.900969      0.0      0.0      0.0      1.0  "
      ]
     },
     "execution_count": 63,
     "metadata": {},
     "output_type": "execute_result"
    }
   ],
   "source": [
    "one_hot_encoder = OneHotEncoder(sparse_output=False)\n",
    "transformed = one_hot_encoder.fit_transform(df[['Bound']])\n",
    "\n",
    "#Create a Pandas DataFrame of the hot encoded column\n",
    "ohe_df = pd.DataFrame(transformed, columns=one_hot_encoder.get_feature_names_out())\n",
    "#concat with original data\n",
    "df = pd.concat([df, ohe_df], axis=1).drop(['Bound'], axis=1)\n",
    "df.head()"
   ]
  },
  {
   "cell_type": "markdown",
   "id": "722f9414",
   "metadata": {},
   "source": [
    "### _Line_ Feature\n",
    "\n",
    "<p style=\"font-size: 17px; letter-spacing:1px; font-family: 'Charter', Times, serif;\">\n",
    "    Encoding Line column using OneHot encoding\n",
    "</p>"
   ]
  },
  {
   "cell_type": "code",
   "execution_count": 64,
   "id": "73093e08",
   "metadata": {},
   "outputs": [
    {
     "data": {
      "text/html": [
       "<div>\n",
       "<style scoped>\n",
       "    .dataframe tbody tr th:only-of-type {\n",
       "        vertical-align: middle;\n",
       "    }\n",
       "\n",
       "    .dataframe tbody tr th {\n",
       "        vertical-align: top;\n",
       "    }\n",
       "\n",
       "    .dataframe thead th {\n",
       "        text-align: right;\n",
       "    }\n",
       "</style>\n",
       "<table border=\"1\" class=\"dataframe\">\n",
       "  <thead>\n",
       "    <tr style=\"text-align: right;\">\n",
       "      <th></th>\n",
       "      <th>Time</th>\n",
       "      <th>Station</th>\n",
       "      <th>Code</th>\n",
       "      <th>Min Delay</th>\n",
       "      <th>Min Gap</th>\n",
       "      <th>Month_sin</th>\n",
       "      <th>Month_cos</th>\n",
       "      <th>Day_sin</th>\n",
       "      <th>Day_cos</th>\n",
       "      <th>Bound_E</th>\n",
       "      <th>Bound_N</th>\n",
       "      <th>Bound_S</th>\n",
       "      <th>Bound_W</th>\n",
       "      <th>BD</th>\n",
       "      <th>YU</th>\n",
       "    </tr>\n",
       "  </thead>\n",
       "  <tbody>\n",
       "    <tr>\n",
       "      <th>0</th>\n",
       "      <td>2.0</td>\n",
       "      <td>3.786203</td>\n",
       "      <td>2.213600</td>\n",
       "      <td>3</td>\n",
       "      <td>9</td>\n",
       "      <td>0.5</td>\n",
       "      <td>0.866025</td>\n",
       "      <td>0.000000</td>\n",
       "      <td>1.000000</td>\n",
       "      <td>0.0</td>\n",
       "      <td>0.0</td>\n",
       "      <td>1.0</td>\n",
       "      <td>0.0</td>\n",
       "      <td>0.0</td>\n",
       "      <td>1.0</td>\n",
       "    </tr>\n",
       "    <tr>\n",
       "      <th>1</th>\n",
       "      <td>2.0</td>\n",
       "      <td>2.417790</td>\n",
       "      <td>0.080596</td>\n",
       "      <td>0</td>\n",
       "      <td>0</td>\n",
       "      <td>0.5</td>\n",
       "      <td>0.866025</td>\n",
       "      <td>0.781831</td>\n",
       "      <td>0.623490</td>\n",
       "      <td>1.0</td>\n",
       "      <td>0.0</td>\n",
       "      <td>0.0</td>\n",
       "      <td>0.0</td>\n",
       "      <td>1.0</td>\n",
       "      <td>0.0</td>\n",
       "    </tr>\n",
       "    <tr>\n",
       "      <th>2</th>\n",
       "      <td>2.0</td>\n",
       "      <td>3.710997</td>\n",
       "      <td>1.992795</td>\n",
       "      <td>0</td>\n",
       "      <td>0</td>\n",
       "      <td>0.5</td>\n",
       "      <td>0.866025</td>\n",
       "      <td>0.974928</td>\n",
       "      <td>-0.222521</td>\n",
       "      <td>0.0</td>\n",
       "      <td>0.0</td>\n",
       "      <td>0.0</td>\n",
       "      <td>1.0</td>\n",
       "      <td>1.0</td>\n",
       "      <td>0.0</td>\n",
       "    </tr>\n",
       "    <tr>\n",
       "      <th>3</th>\n",
       "      <td>2.0</td>\n",
       "      <td>3.099432</td>\n",
       "      <td>0.080596</td>\n",
       "      <td>0</td>\n",
       "      <td>0</td>\n",
       "      <td>0.5</td>\n",
       "      <td>0.866025</td>\n",
       "      <td>0.433884</td>\n",
       "      <td>-0.900969</td>\n",
       "      <td>0.0</td>\n",
       "      <td>0.0</td>\n",
       "      <td>0.0</td>\n",
       "      <td>1.0</td>\n",
       "      <td>1.0</td>\n",
       "      <td>0.0</td>\n",
       "    </tr>\n",
       "    <tr>\n",
       "      <th>4</th>\n",
       "      <td>0.0</td>\n",
       "      <td>1.722071</td>\n",
       "      <td>0.080596</td>\n",
       "      <td>0</td>\n",
       "      <td>0</td>\n",
       "      <td>0.5</td>\n",
       "      <td>0.866025</td>\n",
       "      <td>-0.433884</td>\n",
       "      <td>-0.900969</td>\n",
       "      <td>0.0</td>\n",
       "      <td>0.0</td>\n",
       "      <td>0.0</td>\n",
       "      <td>1.0</td>\n",
       "      <td>1.0</td>\n",
       "      <td>0.0</td>\n",
       "    </tr>\n",
       "  </tbody>\n",
       "</table>\n",
       "</div>"
      ],
      "text/plain": [
       "   Time   Station      Code  Min Delay  Min Gap  Month_sin  Month_cos  \\\n",
       "0   2.0  3.786203  2.213600          3        9        0.5   0.866025   \n",
       "1   2.0  2.417790  0.080596          0        0        0.5   0.866025   \n",
       "2   2.0  3.710997  1.992795          0        0        0.5   0.866025   \n",
       "3   2.0  3.099432  0.080596          0        0        0.5   0.866025   \n",
       "4   0.0  1.722071  0.080596          0        0        0.5   0.866025   \n",
       "\n",
       "    Day_sin   Day_cos  Bound_E  Bound_N  Bound_S  Bound_W   BD   YU  \n",
       "0  0.000000  1.000000      0.0      0.0      1.0      0.0  0.0  1.0  \n",
       "1  0.781831  0.623490      1.0      0.0      0.0      0.0  1.0  0.0  \n",
       "2  0.974928 -0.222521      0.0      0.0      0.0      1.0  1.0  0.0  \n",
       "3  0.433884 -0.900969      0.0      0.0      0.0      1.0  1.0  0.0  \n",
       "4 -0.433884 -0.900969      0.0      0.0      0.0      1.0  1.0  0.0  "
      ]
     },
     "execution_count": 64,
     "metadata": {},
     "output_type": "execute_result"
    }
   ],
   "source": [
    "# Transforming the Line column\n",
    "transformed = one_hot_encoder.fit_transform(df['Line'].to_numpy().reshape(-1, 1))\n",
    "\n",
    "# Create a Pandas DataFrame of the hot encoded column\n",
    "ohe_df = pd.DataFrame(transformed, columns=one_hot_encoder.get_feature_names_out())\n",
    "\n",
    "#concat with original data\n",
    "df = pd.concat([df, ohe_df], axis=1).drop(['Line'], axis=1)\n",
    "\n",
    "# renaming column names\n",
    "df.rename(columns={'x0_BD': 'BD', 'x0_YU': 'YU'}, inplace=True)\n",
    "df.head()"
   ]
  },
  {
   "cell_type": "code",
   "execution_count": 65,
   "id": "297eaead",
   "metadata": {},
   "outputs": [],
   "source": [
    "# Saving the encoded data to csv file\n",
    "df.to_csv('encoded_ttc_subway.csv', index=False)"
   ]
  },
  {
   "cell_type": "markdown",
   "id": "949d6a9f",
   "metadata": {},
   "source": [
    "# Relation Analysis"
   ]
  },
  {
   "cell_type": "markdown",
   "id": "00551a12",
   "metadata": {},
   "source": [
    "### Plotting the relation between Independent and Dependent variables\n",
    "\n",
    "<p style=\"font-size: 17px; letter-spacing:1px; font-family: 'Charter', Times, serif;\">\n",
    "    To identify the best feature we need to plot the coorelation between each independent and dependent variables.\n",
    "</p>"
   ]
  },
  {
   "cell_type": "markdown",
   "id": "a8ff5b3b",
   "metadata": {},
   "source": [
    "<p style=\"font-size: 17px; letter-spacing:1px; font-family: 'Charter', Times, serif;\">\n",
    "    <b>Time vs Min Delay\n",
    "</p>"
   ]
  },
  {
   "cell_type": "code",
   "execution_count": 66,
   "id": "2167cd81",
   "metadata": {},
   "outputs": [
    {
     "data": {
      "image/png": "[encoded data removed]",
      "text/plain": [
       "<Figure size 1500x400 with 4 Axes>"
      ]
     },
     "metadata": {},
     "output_type": "display_data"
    }
   ],
   "source": [
    "fig, axes = plt.subplots(1, 3, figsize=(15,4))\n",
    "sns.scatterplot(df1, x='Time', y='Min Delay', ax=axes[0])\n",
    "sns.boxplot(df1, x='Time', y='Min Delay', ax=axes[1], showfliers=False)\n",
    "\n",
    "corr_matrix = df[['Time', 'Min Delay']].corr()\n",
    "sns.heatmap(corr_matrix, annot=True, cmap='coolwarm', fmt=\".2f\", ax=axes[2])\n",
    "plt.show()"
   ]
  },
  {
   "cell_type": "markdown",
   "id": "a7650901",
   "metadata": {},
   "source": [
    "<br><p style=\"font-size: 17px; letter-spacing:1px; font-family: 'Charter', Times, serif;\">\n",
    "    <b>Day vs Min Delay\n",
    "</p>"
   ]
  },
  {
   "cell_type": "code",
   "execution_count": 67,
   "id": "ed27f6c1",
   "metadata": {},
   "outputs": [
    {
     "data": {
      "image/png": "[encoded data removed]",
      "text/plain": [
       "<Figure size 1500x400 with 4 Axes>"
      ]
     },
     "metadata": {},
     "output_type": "display_data"
    }
   ],
   "source": [
    "fig, axes = plt.subplots(1, 3, figsize=(15,4))\n",
    "sns.scatterplot(df1, x='Day', y='Min Delay', ax=axes[0])\n",
    "sns.boxplot(df1, x='Day', y='Min Delay', ax=axes[1], showfliers=False, fliersize=0)\n",
    "\n",
    "corr_matrix = df[['Day_sin', 'Day_cos', 'Min Delay']].corr()\n",
    "sns.heatmap(corr_matrix, annot=True, cmap='coolwarm', fmt=\".2f\", ax=axes[2])\n",
    "plt.show()"
   ]
  },
  {
   "cell_type": "markdown",
   "id": "97c5eb16",
   "metadata": {},
   "source": [
    "<br><p style=\"font-size: 17px; letter-spacing:1px; font-family: 'Charter', Times, serif;\">\n",
    "    <b>Station vs Min Delay\n",
    "</p>"
   ]
  },
  {
   "cell_type": "code",
   "execution_count": 68,
   "id": "b8783d74",
   "metadata": {},
   "outputs": [
    {
     "data": {
      "image/png": "[encoded data removed]",
      "text/plain": [
       "<Figure size 1500x1000 with 4 Axes>"
      ]
     },
     "metadata": {},
     "output_type": "display_data"
    }
   ],
   "source": [
    "fig, axes = plt.subplots(3, 1, figsize=(15,10))\n",
    "sns.scatterplot(df1, x='Station', y='Min Delay', ax=axes[0])\n",
    "sns.boxplot(df1, x='Station', y='Min Delay', ax=axes[1])\n",
    "\n",
    "corr_matrix = df[['Station', 'Min Delay']].corr()\n",
    "sns.heatmap(corr_matrix, annot=True, cmap='coolwarm', fmt=\".2f\", ax=axes[2])\n",
    "plt.show()"
   ]
  },
  {
   "cell_type": "markdown",
   "id": "9a468245",
   "metadata": {},
   "source": [
    "<br><p style=\"font-size: 17px; letter-spacing:1px; font-family: 'Charter', Times, serif;\">\n",
    "    <b>Code vs Min Delay\n",
    "</p>"
   ]
  },
  {
   "cell_type": "code",
   "execution_count": 69,
   "id": "2e882bda",
   "metadata": {},
   "outputs": [
    {
     "data": {
      "image/png": "[encoded data removed]",
      "text/plain": [
       "<Figure size 1500x1000 with 4 Axes>"
      ]
     },
     "metadata": {},
     "output_type": "display_data"
    }
   ],
   "source": [
    "fig, axes = plt.subplots(3, 1, figsize=(15,10))\n",
    "sns.scatterplot(df1, x='Code', y='Min Delay', ax=axes[0])\n",
    "\n",
    "grouped = df[['Code', 'Min Delay']].groupby(['Code']).median()\n",
    "sorted_values = grouped.sort_values(by='Min Delay')\n",
    "sns.boxplot(df, x='Code', y='Min Delay', ax=axes[1], fliersize=0, showfliers=False, order=sorted_values.index)\n",
    "# sns.boxplot(df1, x='Code', y='Min Delay', ax=axes[1], fliersize=0, showfliers=False)\n",
    "\n",
    "corr_matrix = df[['Code', 'Min Delay']].corr()\n",
    "sns.heatmap(corr_matrix, annot=True, cmap='coolwarm', fmt=\".2f\", ax=axes[2])\n",
    "plt.show()"
   ]
  },
  {
   "cell_type": "code",
   "execution_count": 70,
   "id": "3ff986d6",
   "metadata": {},
   "outputs": [
    {
     "data": {
      "text/plain": [
       "<Axes: xlabel='Code', ylabel='Min Delay'>"
      ]
     },
     "execution_count": 70,
     "metadata": {},
     "output_type": "execute_result"
    },
    {
     "data": {
      "image/png": "[encoded data removed]",
      "text/plain": [
       "<Figure size 640x480 with 1 Axes>"
      ]
     },
     "metadata": {},
     "output_type": "display_data"
    }
   ],
   "source": [
    "grouped = df[['Code', 'Min Delay']].groupby(['Code']).median()\n",
    "sorted_values = grouped.sort_values(by='Min Delay')\n",
    "sns.boxplot(df, x='Code', y='Min Delay', fliersize=0, showfliers=False, order=sorted_values.index)"
   ]
  },
  {
   "cell_type": "markdown",
   "id": "c7ebc7a8",
   "metadata": {},
   "source": [
    "<br><p style=\"font-size: 17px; letter-spacing:1px; font-family: 'Charter', Times, serif;\">\n",
    "    <b>Min Gap vs Min Delay\n",
    "</p>"
   ]
  },
  {
   "cell_type": "code",
   "execution_count": 71,
   "id": "82952fee",
   "metadata": {},
   "outputs": [
    {
     "data": {
      "image/png": "[encoded data removed]",
      "text/plain": [
       "<Figure size 1000x400 with 3 Axes>"
      ]
     },
     "metadata": {},
     "output_type": "display_data"
    }
   ],
   "source": [
    "fig, axes = plt.subplots(1, 2, figsize=(10, 4))\n",
    "sns.scatterplot(df1, x='Min Gap', y='Min Delay', ax=axes[0])\n",
    "\n",
    "corr_matrix = df[['Min Gap', 'Min Delay']].corr()\n",
    "sns.heatmap(corr_matrix, annot=True, cmap='coolwarm', fmt=\".2f\", ax=axes[1])\n",
    "plt.show()"
   ]
  },
  {
   "cell_type": "markdown",
   "id": "c2250896",
   "metadata": {},
   "source": [
    "<br><p style=\"font-size: 17px; letter-spacing:1px; font-family: 'Charter', Times, serif;\">\n",
    "    <b>Bound vs Min Delay\n",
    "</p>"
   ]
  },
  {
   "cell_type": "code",
   "execution_count": 72,
   "id": "f073bb33",
   "metadata": {},
   "outputs": [
    {
     "data": {
      "image/png": "[encoded data removed]",
      "text/plain": [
       "<Figure size 1500x1000 with 4 Axes>"
      ]
     },
     "metadata": {},
     "output_type": "display_data"
    }
   ],
   "source": [
    "fig, axes = plt.subplots(3, 1, figsize=(15,10))\n",
    "sns.scatterplot(df1, x='Bound', y='Min Delay', ax=axes[0])\n",
    "sns.boxplot(df1, x='Bound', y='Min Delay', ax=axes[1])\n",
    "\n",
    "corr_matrix = df[['Bound_E', 'Bound_N', 'Bound_S', 'Bound_W', 'Min Delay']].corr()\n",
    "sns.heatmap(corr_matrix, annot=True, cmap='coolwarm', fmt=\".2f\", ax=axes[2])\n",
    "plt.show()"
   ]
  },
  {
   "cell_type": "markdown",
   "id": "16e8484a",
   "metadata": {},
   "source": [
    "<br><p style=\"font-size: 17px; letter-spacing:1px; font-family: 'Charter', Times, serif;\">\n",
    "    <b>Line vs Min Delay\n",
    "</p>"
   ]
  },
  {
   "cell_type": "code",
   "execution_count": 73,
   "id": "09e98592",
   "metadata": {},
   "outputs": [
    {
     "data": {
      "image/png": "[encoded data removed]",
      "text/plain": [
       "<Figure size 1000x400 with 4 Axes>"
      ]
     },
     "metadata": {},
     "output_type": "display_data"
    }
   ],
   "source": [
    "fig, axes = plt.subplots(1, 3, figsize=(10, 4))\n",
    "sns.scatterplot(df1, x='Line', y='Min Delay', ax=axes[0])\n",
    "sns.boxplot(df1, x='Line', y='Min Delay', ax=axes[1])\n",
    "\n",
    "corr_matrix = df[['BD', 'YU', 'Min Delay']].corr()\n",
    "sns.heatmap(corr_matrix, annot=True, cmap='coolwarm', fmt=\".2f\", ax=axes[2])\n",
    "plt.show()"
   ]
  },
  {
   "cell_type": "markdown",
   "id": "b312ecc5",
   "metadata": {},
   "source": [
    "<br><p style=\"font-size: 17px; letter-spacing:1px; font-family: 'Charter', Times, serif;\">\n",
    "    <b>Month vs Min Delay\n",
    "</p>"
   ]
  },
  {
   "cell_type": "code",
   "execution_count": 74,
   "id": "7038145d",
   "metadata": {},
   "outputs": [
    {
     "data": {
      "image/png": "[encoded data removed]",
      "text/plain": [
       "<Figure size 1500x1000 with 4 Axes>"
      ]
     },
     "metadata": {},
     "output_type": "display_data"
    }
   ],
   "source": [
    "fig, axes = plt.subplots(3, 1, figsize=(15,10))\n",
    "sns.scatterplot(df1, x='Month', y='Min Delay', ax=axes[0])\n",
    "sns.boxplot(df1, x='Month', y='Min Delay', ax=axes[1])\n",
    "\n",
    "corr_matrix = df[['Month_sin', 'Month_cos', 'Min Delay']].corr()\n",
    "sns.heatmap(corr_matrix, annot=True, cmap='coolwarm', fmt=\".2f\", ax=axes[2])\n",
    "plt.show()"
   ]
  },
  {
   "cell_type": "markdown",
   "id": "dcddd12d",
   "metadata": {},
   "source": [
    "<br><p style=\"font-size: 17px; letter-spacing:1px; font-family: 'Charter', Times, serif;\">\n",
    "    From the plots above we can conclude that only <code>Min Gap</code> &amp; <code>Code</code> are the features who has good corelation with the dependent variable <code>Min Delay</code>.\n",
    "</p>\n",
    "\n",
    "<p style=\"font-size: 17px; letter-spacing:1px; font-family: 'Charter', Times, serif;\">\n",
    "    So we will proceed with <code>Min Gap</code> &amp; <code>Code</code> to build our regression models.\n",
    "</p>"
   ]
  },
  {
   "cell_type": "markdown",
   "id": "1d74f70b",
   "metadata": {},
   "source": [
    "<br>"
   ]
  },
  {
   "cell_type": "markdown",
   "id": "8ae0232c",
   "metadata": {},
   "source": [
    "# Regression Model"
   ]
  },
  {
   "cell_type": "markdown",
   "id": "1ed63890",
   "metadata": {},
   "source": [
    "<p style=\"font-size: 17px; letter-spacing:1px; font-family: 'Charter', Times, serif;\">\n",
    "    For building the regression model we will use <code>SGDRegressor()</code> class instead of using LinearRegression().\n",
    "</p>\n",
    "\n",
    "<p style=\"font-size: 17px; letter-spacing:1px; font-family: 'Charter', Times, serif;\">\n",
    "    The reason behind choosing <i>SGDRegressor</i> over <i>LinearRegression</i>:<br>\n",
    "    - It uses Stochastic Gradient Descent to derive the parameters. While LinearRegression uses OLS method.<br>\n",
    "    - It uses Regularization by default when deriving the parameters while LinearRegression doesn't use.\n",
    "</p>    "
   ]
  },
  {
   "cell_type": "code",
   "execution_count": 75,
   "id": "2c6790c4",
   "metadata": {},
   "outputs": [],
   "source": [
    "df_features = df[['Code', 'Min Gap']]"
   ]
  },
  {
   "cell_type": "code",
   "execution_count": 76,
   "id": "c843e597",
   "metadata": {},
   "outputs": [],
   "source": [
    "X_train, X_test, y_train, y_test = train_test_split(df_features, df['Min Delay'], test_size=0.2, random_state=42)"
   ]
  },
  {
   "cell_type": "code",
   "execution_count": 77,
   "id": "daba67d9",
   "metadata": {},
   "outputs": [
    {
     "name": "stdout",
     "output_type": "stream",
     "text": [
      "Coefficients: [-0.02272379  0.85648892]\n",
      "Intercept: [-0.57341977]\n",
      "Score: 0.9108263704514475\n",
      "MSE: 4.12189955408169\n"
     ]
    }
   ],
   "source": [
    "# Initializing the SGDRegressor object\n",
    "sgd = SGDRegressor()\n",
    "\n",
    "sgd.fit(X_train, y_train)\n",
    "\n",
    "print(f\"Coefficients: {sgd.coef_}\")\n",
    "print(f\"Intercept: {sgd.intercept_}\")\n",
    "\n",
    "Yhat = sgd.predict(X_test)\n",
    "\n",
    "print(f\"Score: {sgd.score(X_test, y_test)}\")\n",
    "\n",
    "mse = mean_squared_error(y_test, Yhat)\n",
    "print(f\"MSE: {mse}\")"
   ]
  },
  {
   "cell_type": "markdown",
   "id": "3804c0da",
   "metadata": {},
   "source": [
    "# Saving Model Files"
   ]
  },
  {
   "cell_type": "code",
   "execution_count": 78,
   "id": "5dc51aac",
   "metadata": {},
   "outputs": [
    {
     "data": {
      "text/plain": [
       "['predictions/ttc-subway-delay-model.pkl']"
      ]
     },
     "execution_count": 78,
     "metadata": {},
     "output_type": "execute_result"
    }
   ],
   "source": [
    "# Saving the trained model\n",
    "joblib.dump(sgd, 'model/ttc-subway-delay-model.pkl') "
   ]
  }
 ],
 "metadata": {
  "kernelspec": {
   "display_name": "Python 3 (ipykernel)",
   "language": "python",
   "name": "python3"
  },
  "language_info": {
   "codemirror_mode": {
    "name": "ipython",
    "version": 3
   },
   "file_extension": ".py",
   "mimetype": "text/x-python",
   "name": "python",
   "nbconvert_exporter": "python",
   "pygments_lexer": "ipython3",
   "version": "3.11.0"
  }
 },
 "nbformat": 4,
 "nbformat_minor": 5
}
